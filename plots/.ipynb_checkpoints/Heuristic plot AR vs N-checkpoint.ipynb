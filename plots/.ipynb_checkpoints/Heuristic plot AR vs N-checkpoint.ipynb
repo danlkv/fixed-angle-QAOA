{
 "cells": [
  {
   "cell_type": "markdown",
   "metadata": {},
   "source": [
    "# Heuristic plot of Approximation Ratio vs number of nodes"
   ]
  },
  {
   "cell_type": "code",
   "execution_count": 53,
   "metadata": {},
   "outputs": [],
   "source": [
    "import qtensor\n",
    "import networkx as nx\n",
    "import matplotlib.pyplot as plt\n",
    "import numpy as np"
   ]
  },
  {
   "cell_type": "code",
   "execution_count": 56,
   "metadata": {},
   "outputs": [
    {
     "name": "stdout",
     "output_type": "stream",
     "text": [
      "total 8\r\n",
      "-rw-r--r-- 1 danlkv jlse 1024 May 25 18:09 QAOA_cost_vs_N.npy\r\n",
      "-rw-r--r-- 1 danlkv jlse  408 May 25 18:09 gurobi_cost_vs_N.npy\r\n"
     ]
    }
   ],
   "source": [
    "ls -l ../data"
   ]
  },
  {
   "cell_type": "code",
   "execution_count": 45,
   "metadata": {},
   "outputs": [],
   "source": [
    "SEEDS = [10, 11, 12, 13, 14]\n",
    "SIZES = [2**x for x in range(3, 10)]"
   ]
  },
  {
   "cell_type": "code",
   "execution_count": 63,
   "metadata": {},
   "outputs": [],
   "source": [
    "graphs = np.array([\n",
    "    [nx.random_regular_graph(3, N, seed=seed) for seed in SEEDS]\n",
    "    for N in SIZES\n",
    "], dtype=object)"
   ]
  },
  {
   "cell_type": "markdown",
   "metadata": {},
   "source": [
    "## Read gurobi solution data"
   ]
  },
  {
   "cell_type": "code",
   "execution_count": 57,
   "metadata": {},
   "outputs": [
    {
     "data": {
      "text/plain": [
       "(7, 5)"
      ]
     },
     "execution_count": 57,
     "metadata": {},
     "output_type": "execute_result"
    }
   ],
   "source": [
    "gurobi_sol = np.load('../data/gurobi_cost_vs_N.npy')\n",
    "gurobi_sol.shape"
   ]
  },
  {
   "cell_type": "code",
   "execution_count": null,
   "metadata": {},
   "outputs": [],
   "source": []
  },
  {
   "cell_type": "markdown",
   "metadata": {},
   "source": [
    "---\n",
    "## Post Scriptum"
   ]
  },
  {
   "cell_type": "markdown",
   "metadata": {},
   "source": [
    "### double-check the data\n"
   ]
  },
  {
   "cell_type": "code",
   "execution_count": 81,
   "metadata": {},
   "outputs": [
    {
     "name": "stdout",
     "output_type": "stream",
     "text": [
      "Gurobi Optimizer version 9.1.2 build v9.1.2rc0 (linux64)\n",
      "Thread count: 56 physical cores, 112 logical processors, using up to 32 threads\n",
      "Optimize a model with 0 rows, 64 columns and 0 nonzeros\n",
      "Model fingerprint: 0xb29fb9dd\n",
      "Model has 96 quadratic objective terms\n",
      "Variable types: 0 continuous, 64 integer (64 binary)\n",
      "Coefficient statistics:\n",
      "  Matrix range     [0e+00, 0e+00]\n",
      "  Objective range  [3e+00, 3e+00]\n",
      "  QObjective range [4e+00, 4e+00]\n",
      "  Bounds range     [1e+00, 1e+00]\n",
      "  RHS range        [0e+00, 0e+00]\n",
      "Found heuristic solution: objective -0.0000000\n",
      "Presolve time: 0.00s\n",
      "Presolved: 96 rows, 160 columns, 288 nonzeros\n",
      "Variable types: 0 continuous, 160 integer (160 binary)\n",
      "\n",
      "Root relaxation: objective -9.600000e+01, 66 iterations, 0.00 seconds\n",
      "\n",
      "    Nodes    |    Current Node    |     Objective Bounds      |     Work\n",
      " Expl Unexpl |  Obj  Depth IntInf | Incumbent    BestBd   Gap | It/Node Time\n",
      "\n",
      "     0     0   96.00000    0   64   -0.00000   96.00000      -     -    0s\n",
      "H    0     0                      78.0000000   96.00000  23.1%     -    0s\n",
      "H    0     0                      80.0000000   96.00000  20.0%     -    0s\n",
      "     0     0   92.00000    0   68   80.00000   92.00000  15.0%     -    0s\n",
      "H    0     0                      85.0000000   92.00000  8.24%     -    0s\n",
      "H    0     0                      86.0000000   90.50000  5.23%     -    0s\n",
      "     0     0   89.00000    0   74   86.00000   89.00000  3.49%     -    0s\n",
      "H    0     0                      87.0000000   89.00000  2.30%     -    0s\n",
      "     0     0   88.16667    0   81   87.00000   88.16667  1.34%     -    0s\n",
      "\n",
      "Cutting planes:\n",
      "  Gomory: 4\n",
      "  MIR: 1\n",
      "  Zero half: 24\n",
      "\n",
      "Explored 1 nodes (359 simplex iterations) in 0.07 seconds\n",
      "Thread count was 32 (of 112 available processors)\n",
      "\n",
      "Solution count 6: 87 86 85 ... -0\n",
      "\n",
      "Optimal solution found (tolerance 1.00e-04)\n",
      "Best objective 8.700000000000e+01, best bound 8.700000000000e+01, gap 0.0000%\n",
      "Gurobi Optimizer version 9.1.2 build v9.1.2rc0 (linux64)\n",
      "Thread count: 56 physical cores, 112 logical processors, using up to 32 threads\n",
      "Optimize a model with 0 rows, 16 columns and 0 nonzeros\n",
      "Model fingerprint: 0xdcd845f1\n",
      "Model has 24 quadratic objective terms\n",
      "Variable types: 0 continuous, 16 integer (16 binary)\n",
      "Coefficient statistics:\n",
      "  Matrix range     [0e+00, 0e+00]\n",
      "  Objective range  [3e+00, 3e+00]\n",
      "  QObjective range [4e+00, 4e+00]\n",
      "  Bounds range     [1e+00, 1e+00]\n",
      "  RHS range        [0e+00, 0e+00]\n",
      "Found heuristic solution: objective -0.0000000\n",
      "Presolve time: 0.00s\n",
      "Presolved: 24 rows, 40 columns, 72 nonzeros\n",
      "Variable types: 0 continuous, 40 integer (40 binary)\n",
      "\n",
      "Root relaxation: objective -2.400000e+01, 16 iterations, 0.00 seconds\n",
      "\n",
      "    Nodes    |    Current Node    |     Objective Bounds      |     Work\n",
      " Expl Unexpl |  Obj  Depth IntInf | Incumbent    BestBd   Gap | It/Node Time\n",
      "\n",
      "     0     0   24.00000    0   16   -0.00000   24.00000      -     -    0s\n",
      "H    0     0                      22.0000000   24.00000  9.09%     -    0s\n",
      "\n",
      "Cutting planes:\n",
      "  Gomory: 1\n",
      "  Zero half: 2\n",
      "\n",
      "Explored 1 nodes (19 simplex iterations) in 0.02 seconds\n",
      "Thread count was 32 (of 112 available processors)\n",
      "\n",
      "Solution count 2: 22 -0 \n",
      "\n",
      "Optimal solution found (tolerance 1.00e-04)\n",
      "Best objective 2.200000000000e+01, best bound 2.200000000000e+01, gap 0.0000%\n",
      "Gurobi Optimizer version 9.1.2 build v9.1.2rc0 (linux64)\n",
      "Thread count: 56 physical cores, 112 logical processors, using up to 32 threads\n",
      "Optimize a model with 0 rows, 256 columns and 0 nonzeros\n",
      "Model fingerprint: 0xd467ecc0\n",
      "Model has 384 quadratic objective terms\n",
      "Variable types: 0 continuous, 256 integer (256 binary)\n",
      "Coefficient statistics:\n",
      "  Matrix range     [0e+00, 0e+00]\n",
      "  Objective range  [3e+00, 3e+00]\n",
      "  QObjective range [4e+00, 4e+00]\n",
      "  Bounds range     [1e+00, 1e+00]\n",
      "  RHS range        [0e+00, 0e+00]\n",
      "Found heuristic solution: objective -0.0000000\n",
      "Presolve time: 0.00s\n",
      "Presolved: 384 rows, 640 columns, 1152 nonzeros\n",
      "Variable types: 0 continuous, 640 integer (640 binary)\n",
      "\n",
      "Root relaxation: objective -3.840000e+02, 275 iterations, 0.00 seconds\n",
      "\n",
      "    Nodes    |    Current Node    |     Objective Bounds      |     Work\n",
      " Expl Unexpl |  Obj  Depth IntInf | Incumbent    BestBd   Gap | It/Node Time\n",
      "\n",
      "     0     0  384.00000    0  256   -0.00000  384.00000      -     -    0s\n",
      "H    0     0                     323.0000000  384.00000  18.9%     -    0s\n",
      "     0     0  373.50000    0  264  323.00000  373.50000  15.6%     -    0s\n",
      "H    0     0                     339.0000000  373.50000  10.2%     -    0s\n",
      "     0     0  367.55000    0  291  339.00000  367.55000  8.42%     -    0s\n",
      "     0     0  367.55000    0  269  339.00000  367.55000  8.42%     -    0s\n",
      "     0     2  367.55000    0  269  339.00000  367.55000  8.42%     -    0s\n",
      "H   39    64                     340.0000000  364.00000  7.06%   105    0s\n",
      "H   95   128                     352.0000000  363.50000  3.27%   106    1s\n",
      "H  159   192                     353.0000000  363.50000  2.97%   122    1s\n",
      "H  483   463                     354.0000000  363.50000  2.68%  90.5    1s\n",
      "\n",
      "Cutting planes:\n",
      "  Gomory: 31\n",
      "  MIR: 1\n",
      "  Zero half: 161\n",
      "\n",
      "Explored 6893 nodes (530411 simplex iterations) in 3.61 seconds\n",
      "Thread count was 32 (of 112 available processors)\n",
      "\n",
      "Solution count 8: 354 353 353 ... -0\n",
      "\n",
      "Optimal solution found (tolerance 1.00e-04)\n",
      "Best objective 3.540000000000e+02, best bound 3.540000000000e+02, gap 0.0000%\n"
     ]
    }
   ],
   "source": [
    "# this should not raise any errors\n",
    "for ni, si in [(3, 4), (1, 2), (5, 2)]:\n",
    "    cost, sol = qtensor.tools.maxcut.gurobi_maxcut(graphs[ni, si])\n",
    "    assert cost == gurobi_sol[ni, si]"
   ]
  },
  {
   "cell_type": "code",
   "execution_count": null,
   "metadata": {},
   "outputs": [],
   "source": []
  }
 ],
 "metadata": {
  "kernelspec": {
   "display_name": "Python 3",
   "language": "python",
   "name": "python3"
  },
  "language_info": {
   "codemirror_mode": {
    "name": "ipython",
    "version": 3
   },
   "file_extension": ".py",
   "mimetype": "text/x-python",
   "name": "python",
   "nbconvert_exporter": "python",
   "pygments_lexer": "ipython3",
   "version": "3.8.1+"
  },
  "toc": {
   "base_numbering": 1,
   "nav_menu": {},
   "number_sections": true,
   "sideBar": true,
   "skip_h1_title": true,
   "title_cell": "Table of Contents",
   "title_sidebar": "Contents",
   "toc_cell": false,
   "toc_position": {},
   "toc_section_display": true,
   "toc_window_display": true
  }
 },
 "nbformat": 4,
 "nbformat_minor": 4
}
