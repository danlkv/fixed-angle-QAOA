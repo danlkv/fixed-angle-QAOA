{
 "cells": [
  {
   "cell_type": "markdown",
   "metadata": {},
   "source": [
    "# Heuristic plot of Approximation Ratio vs number of nodes"
   ]
  },
  {
   "cell_type": "code",
   "execution_count": 15,
   "metadata": {},
   "outputs": [],
   "source": [
    "import qtensor\n",
    "import networkx as nx\n",
    "import matplotlib.pyplot as plt\n",
    "import numpy as np\n",
    "import matplotlib as mpl\n",
    "import xarray as xar\n",
    "mpl.rcParams.update({'font.size': 16})"
   ]
  },
  {
   "cell_type": "code",
   "execution_count": 16,
   "metadata": {},
   "outputs": [
    {
     "name": "stdout",
     "output_type": "stream",
     "text": [
      "total 4928\r\n",
      "-rw-r--r-- 1 plate plate 4683150 Oct 26 13:46 ALL_3r_graphs.json\r\n",
      "-rw-r--r-- 1 plate plate    1944 Oct 26 13:46 GW_cost_vs_N.nc\r\n",
      "-rw-r--r-- 1 plate plate    6576 Oct 26 13:45 QAOA_cost_vs_N.nc\r\n",
      "-rw-r--r-- 1 plate plate    1024 May 30 12:28 QAOA_cost_vs_N.npy\r\n",
      "-rw-r--r-- 1 plate plate    2170 May 30 12:28 angles.json\r\n",
      "drwxr-xr-x 3 plate plate    4096 Oct 26 13:50 \u001b[0m\u001b[01;34mgenerators\u001b[0m/\r\n",
      "-rw-r--r-- 1 plate plate  299707 Oct 26 13:43 \u001b[01;31mgraph_ensemble_data2.zip\u001b[0m\r\n",
      "-rw-r--r-- 1 plate plate    1928 Oct 26 13:45 gurobi_cost_vs_N.nc\r\n",
      "-rw-r--r-- 1 plate plate     408 May 30 12:28 gurobi_cost_vs_N.npy\r\n",
      "drwxr-xr-x 2 plate plate    4096 Oct 26 13:50 \u001b[01;34mlarge_scale\u001b[0m/\r\n",
      "-rw-r--r-- 1 plate plate    3243 Oct 26 13:50 magic_stickynote11_SMOOTH.json\r\n",
      "-rwxr-xr-x 1 plate plate    7068 Oct 26 13:50 \u001b[01;32mmagic_stickynote_allregular.json\u001b[0m*\r\n",
      "-rw-r--r-- 1 plate plate    5612 Oct 26 13:46 magic_stickynote_connectivity.json\r\n"
     ]
    }
   ],
   "source": [
    "ls -l ../data"
   ]
  },
  {
   "cell_type": "code",
   "execution_count": 17,
   "metadata": {},
   "outputs": [],
   "source": [
    "SEEDS = range(10, 26)\n",
    "SIZES = [2**x for x in range(3, 9)]"
   ]
  },
  {
   "cell_type": "code",
   "execution_count": 18,
   "metadata": {},
   "outputs": [],
   "source": [
    "graphs = np.array([\n",
    "    [nx.random_regular_graph(3, N, seed=seed) for seed in SEEDS]\n",
    "    for N in SIZES\n",
    "], dtype=object)"
   ]
  },
  {
   "cell_type": "markdown",
   "metadata": {},
   "source": [
    "## Read gurobi solution data"
   ]
  },
  {
   "cell_type": "code",
   "execution_count": 19,
   "metadata": {},
   "outputs": [
    {
     "data": {
      "text/plain": [
       "((6, 32), (4, 6, 32))"
      ]
     },
     "execution_count": 19,
     "metadata": {},
     "output_type": "execute_result"
    }
   ],
   "source": [
    "gurobi_sol = xar.open_dataarray('../data/gurobi_cost_vs_N.nc')\n",
    "qaoa_sol = xar.open_dataarray('../data/QAOA_cost_vs_N.nc')\n",
    "gurobi_sol.shape,  qaoa_sol.shape"
   ]
  },
  {
   "cell_type": "markdown",
   "metadata": {},
   "source": [
    "## Plot data\n",
    "### Helper functions"
   ]
  },
  {
   "cell_type": "code",
   "execution_count": 20,
   "metadata": {},
   "outputs": [],
   "source": [
    "def get_colors(num=2, offset=0.25, cmap=mpl.cm.gnuplot2):\n",
    "    \"\"\"\n",
    "    returns:\n",
    "        Array of len ``num``.\n",
    "    \"\"\"\n",
    "    \n",
    "    return np.array([cmap(x) for x in np.linspace(offset, 1-offset, num)])\n",
    "\n",
    "c_prim, c_sec = get_colors(offset=0.25)"
   ]
  },
  {
   "cell_type": "code",
   "execution_count": 21,
   "metadata": {},
   "outputs": [],
   "source": [
    "from mpl_toolkits.axes_grid1 import Divider, Size\n",
    "\n",
    "def add_sized_axis(fig, axsize, right=False):\n",
    "    # The first items are for padding and the second items are for the axes.\n",
    "    # sizes are in inch.\n",
    "    h = [Size.Fixed(1.0), Size.Fixed(axsize[0]), Size.Fixed(.5)]\n",
    "    if right:\n",
    "        h = list(reversed(h))\n",
    "    v = [Size.Fixed(0.7), Size.Fixed(axsize[1])]\n",
    "\n",
    "    divider = Divider(fig, (0, 0, 1, 1), h, v, aspect=False)\n",
    "    # The width and height of the rectangle are ignored.\n",
    "\n",
    "    ax = fig.add_axes(divider.get_position(),\n",
    "                      axes_locator=divider.new_locator(nx=1, ny=1))"
   ]
  },
  {
   "cell_type": "code",
   "execution_count": 22,
   "metadata": {},
   "outputs": [],
   "source": [
    "def plot_with_range(x, data, color,\n",
    "                    label='Average',\n",
    "                    shade_label='',\n",
    "                    alpha=0.15\n",
    "                   ):\n",
    "    mi = np.nanmin(data, -1)\n",
    "    av = np.nanmean(data, -1)\n",
    "    ma = np.nanmax(data, -1)\n",
    "\n",
    "    plt.plot(x, av,'o-', label=label, color=color)\n",
    "    #plt.plot(np.arange(1,12),maxAR,'.-',label='Max', color=c_prim)\n",
    "    #plt.plot(np.arange(1,12),minAR,'.-', label='Minimum', color=c_prim)\n",
    "    plt.fill_between(x, mi, ma, color=color, alpha=alpha, label=shade_label)\n",
    "   "
   ]
  },
  {
   "cell_type": "markdown",
   "metadata": {},
   "source": [
    "### Plotting functions"
   ]
  },
  {
   "cell_type": "code",
   "execution_count": 23,
   "metadata": {},
   "outputs": [],
   "source": [
    "def plot_ar_p(x, data, c_prim, c_sec,\n",
    "              alpha=0.15, axsize=(6, 6/1.618),\n",
    "              guarantees=True\n",
    "             ):\n",
    "    margin = (0.2, 0.2)\n",
    "    fig = plt.figure(figsize=(axsize[0]+1.5, axsize[1]+.8))\n",
    "    add_sized_axis(fig, axsize, right=True)\n",
    "    #plt.subplots_adjust(left=0.15,right=0.85)\n",
    "    colors_p = iter(get_colors(num=len(data), offset=0.2))\n",
    "    for i, data_p in enumerate(data):\n",
    "        p = i+1\n",
    "        plot_with_range(x, data_p,\n",
    "                        color=next(colors_p),\n",
    "                        label=f'p={p}'\n",
    "                       )\n",
    "\n",
    "    ax = plt.gca()\n",
    "    plt.xlabel('N')\n",
    "    plt.ylabel('Approximation ratio')\n",
    "    plt.legend(title='Averages', loc='upper right', ncol=2)\n",
    "    \n",
    "    plt.grid(alpha=0.3)\n",
    "    ax.yaxis.set_label_position(\"right\")\n",
    "    ax.yaxis.tick_right()\n",
    "    plt.ylim(0.68, 1.05)\n",
    "    \n",
    "    if guarantees:\n",
    "        colors_p = iter(get_colors(num=len(data), offset=0.2))\n",
    "        guarantees = [qtensor.tools.BETHE_QAOA_VALUES[str(p)]['val'] for p in range(1, 5)]\n",
    "        rightpos = max(x)*1.5\n",
    "        for g_p in guarantees:\n",
    "            plt.hlines(g_p, max(x)/1.2, rightpos,\n",
    "                       color=next(colors_p),\n",
    "                       linestyle='--', linewidth=2)\n",
    "        plt.xlim(min(x)/1.2, rightpos)\n",
    "        guarantee_ticks = [np.round(x, 3) for x in guarantees]\n",
    "        ticks = guarantees + [0.85, 0.90, 0.95, 1.00]\n",
    "        plt.yticks(ticks=ticks, labels=[np.round(x, 2) for x in ticks])\n",
    "\n",
    "    return fig"
   ]
  },
  {
   "cell_type": "code",
   "execution_count": 27,
   "metadata": {},
   "outputs": [],
   "source": [
    "def set_scalar_axis(ax):\n",
    "    \"\"\" plt.\"\"\"\n",
    "    from matplotlib.ticker import ScalarFormatter\n",
    "    for axis in [ax.xaxis, ax.yaxis]:\n",
    "        axis.set_major_formatter(ScalarFormatter())"
   ]
  },
  {
   "cell_type": "code",
   "execution_count": 28,
   "metadata": {},
   "outputs": [
    {
     "name": "stdout",
     "output_type": "stream",
     "text": [
      "Number of seeds = 32\n"
     ]
    },
    {
     "data": {
      "image/png": "[encoded data removed]",
      "text/plain": [
       "<Figure size 540x324.596 with 1 Axes>"
      ]
     },
     "metadata": {
      "needs_background": "light"
     },
     "output_type": "display_data"
    }
   ],
   "source": [
    "plot_ar_p(SIZES, qaoa_sol/gurobi_sol[:,:len(qaoa_sol.seed)], c_prim, c_sec)\n",
    "print('Number of seeds =', len(qaoa_sol.seed))\n",
    "plt.xscale('log', base=2, )\n",
    "set_scalar_axis(plt.gca())\n",
    "\n",
    "plt.savefig('./pdf/ar_vs_N.pdf')"
   ]
  },
  {
   "cell_type": "code",
   "execution_count": null,
   "metadata": {},
   "outputs": [],
   "source": []
  }
 ],
 "metadata": {
  "kernelspec": {
   "display_name": "Python 3",
   "language": "python",
   "name": "python3"
  },
  "language_info": {
   "codemirror_mode": {
    "name": "ipython",
    "version": 3
   },
   "file_extension": ".py",
   "mimetype": "text/x-python",
   "name": "python",
   "nbconvert_exporter": "python",
   "pygments_lexer": "ipython3",
   "version": "3.8.2"
  },
  "toc": {
   "base_numbering": 1,
   "nav_menu": {},
   "number_sections": true,
   "sideBar": true,
   "skip_h1_title": true,
   "title_cell": "Table of Contents",
   "title_sidebar": "Contents",
   "toc_cell": false,
   "toc_position": {},
   "toc_section_display": true,
   "toc_window_display": true
  },
  "varInspector": {
   "cols": {
    "lenName": 16,
    "lenType": 16,
    "lenVar": 40
   },
   "kernels_config": {
    "python": {
     "delete_cmd_postfix": "",
     "delete_cmd_prefix": "del ",
     "library": "var_list.py",
     "varRefreshCmd": "print(var_dic_list())"
    },
    "r": {
     "delete_cmd_postfix": ") ",
     "delete_cmd_prefix": "rm(",
     "library": "var_list.r",
     "varRefreshCmd": "cat(var_dic_list()) "
    }
   },
   "types_to_exclude": [
    "module",
    "function",
    "builtin_function_or_method",
    "instance",
    "_Feature"
   ],
   "window_display": false
  }
 },
 "nbformat": 4,
 "nbformat_minor": 4
}
