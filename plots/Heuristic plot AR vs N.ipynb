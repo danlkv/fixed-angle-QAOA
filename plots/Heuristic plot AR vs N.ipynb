{
 "cells": [
  {
   "cell_type": "markdown",
   "metadata": {},
   "source": [
    "# Heuristic plot of Approximation Ratio vs number of nodes"
   ]
  },
  {
   "cell_type": "code",
   "execution_count": 1,
   "metadata": {},
   "outputs": [],
   "source": [
    "import qtensor\n",
    "import networkx as nx\n",
    "import matplotlib.pyplot as plt\n",
    "import numpy as np\n",
    "import matplotlib as mpl\n",
    "mpl.rcParams.update({'font.size': 16})"
   ]
  },
  {
   "cell_type": "code",
   "execution_count": 2,
   "metadata": {},
   "outputs": [
    {
     "name": "stdout",
     "output_type": "stream",
     "text": [
      "total 336\r\n",
      "-rw-r--r-- 1 danlkv jlse    408 Jun 13 14:32 GW_cost_vs_N.npy\r\n",
      "-rw-r--r-- 1 danlkv jlse   6576 Jun 13 16:52 QAOA_cost_vs_N.nc\r\n",
      "-rw-r--r-- 1 danlkv jlse   1024 May 25 18:09 QAOA_cost_vs_N.npy\r\n",
      "-rw-r--r-- 1 danlkv jlse   2170 May 25 18:17 angles.json\r\n",
      "drwxr-xr-x 3 danlkv jlse   4096 Jun 13 14:46 \u001b[0m\u001b[01;34mcaex_cache\u001b[0m/\r\n",
      "drwxr-xr-x 3 danlkv jlse   4096 Jun 13 16:46 \u001b[01;34mgenerators\u001b[0m/\r\n",
      "-rw-r--r-- 1 danlkv jlse 299707 May 31 08:01 \u001b[01;31mgraph_ensemble_data2.zip\u001b[0m\r\n",
      "-rw-r--r-- 1 danlkv jlse   1928 Jun 13 16:36 gurobi_cost_vs_N.nc\r\n",
      "-rw-r--r-- 1 danlkv jlse    408 May 25 18:09 gurobi_cost_vs_N.npy\r\n"
     ]
    }
   ],
   "source": [
    "ls -l ../data"
   ]
  },
  {
   "cell_type": "code",
   "execution_count": 3,
   "metadata": {},
   "outputs": [],
   "source": [
    "SEEDS = range(10, 26)\n",
    "SIZES = [2**x for x in range(3, 9)]"
   ]
  },
  {
   "cell_type": "code",
   "execution_count": 4,
   "metadata": {},
   "outputs": [],
   "source": [
    "graphs = np.array([\n",
    "    [nx.random_regular_graph(3, N, seed=seed) for seed in SEEDS]\n",
    "    for N in SIZES\n",
    "], dtype=object)"
   ]
  },
  {
   "cell_type": "markdown",
   "metadata": {},
   "source": [
    "## Read gurobi solution data"
   ]
  },
  {
   "cell_type": "code",
   "execution_count": 5,
   "metadata": {},
   "outputs": [],
   "source": [
    "import xarray as xar"
   ]
  },
  {
   "cell_type": "code",
   "execution_count": 6,
   "metadata": {},
   "outputs": [
    {
     "data": {
      "text/plain": [
       "((6, 32), (7, 5), (4, 6, 32))"
      ]
     },
     "execution_count": 6,
     "metadata": {},
     "output_type": "execute_result"
    }
   ],
   "source": [
    "gurobi_sol = xar.open_dataarray('../data/gurobi_cost_vs_N.nc')\n",
    "gw_sol = np.load('../data/GW_cost_vs_N.npy')\n",
    "qaoa_sol = xar.open_dataarray('../data/QAOA_cost_vs_N.nc')\n",
    "gurobi_sol.shape, gw_sol.shape, qaoa_sol.shape"
   ]
  },
  {
   "cell_type": "markdown",
   "metadata": {},
   "source": [
    "## Plot data\n",
    "### Helper functions"
   ]
  },
  {
   "cell_type": "code",
   "execution_count": 7,
   "metadata": {},
   "outputs": [],
   "source": [
    "def get_colors(num=2, offset=0.25, cmap=mpl.cm.gnuplot2):\n",
    "    \"\"\"\n",
    "    returns:\n",
    "        Array of len ``num``.\n",
    "    \"\"\"\n",
    "    \n",
    "    return np.array([cmap(x) for x in np.linspace(offset, 1-offset, num)])\n",
    "\n",
    "c_prim, c_sec = get_colors(offset=0.25)"
   ]
  },
  {
   "cell_type": "code",
   "execution_count": 8,
   "metadata": {},
   "outputs": [],
   "source": [
    "from mpl_toolkits.axes_grid1 import Divider, Size\n",
    "\n",
    "def add_sized_axis(fig, axsize, right=False):\n",
    "    # The first items are for padding and the second items are for the axes.\n",
    "    # sizes are in inch.\n",
    "    h = [Size.Fixed(1.0), Size.Fixed(axsize[0]), Size.Fixed(.5)]\n",
    "    if right:\n",
    "        h = list(reversed(h))\n",
    "    v = [Size.Fixed(0.7), Size.Fixed(axsize[1])]\n",
    "\n",
    "    divider = Divider(fig, (0, 0, 1, 1), h, v, aspect=False)\n",
    "    # The width and height of the rectangle are ignored.\n",
    "\n",
    "    ax = fig.add_axes(divider.get_position(),\n",
    "                      axes_locator=divider.new_locator(nx=1, ny=1))"
   ]
  },
  {
   "cell_type": "code",
   "execution_count": 9,
   "metadata": {},
   "outputs": [],
   "source": [
    "def plot_with_range(x, data, color,\n",
    "                    label='Average',\n",
    "                    shade_label='',\n",
    "                    alpha=0.15\n",
    "                   ):\n",
    "    mi = np.nanmin(data, -1)\n",
    "    av = np.nanmean(data, -1)\n",
    "    ma = np.nanmax(data, -1)\n",
    "\n",
    "    plt.plot(x, av,'o-', label=label, color=color)\n",
    "    #plt.plot(np.arange(1,12),maxAR,'.-',label='Max', color=c_prim)\n",
    "    #plt.plot(np.arange(1,12),minAR,'.-', label='Minimum', color=c_prim)\n",
    "    plt.fill_between(x, mi, ma, color=color, alpha=alpha, label=shade_label)\n",
    "   "
   ]
  },
  {
   "cell_type": "markdown",
   "metadata": {},
   "source": [
    "### Plotting functions"
   ]
  },
  {
   "cell_type": "code",
   "execution_count": 10,
   "metadata": {},
   "outputs": [],
   "source": [
    "def plot_ar_p(x, data, c_prim, c_sec,\n",
    "              alpha=0.15, axsize=(6, 6/1.618),\n",
    "              guarantees=True\n",
    "             ):\n",
    "    margin = (0.2, 0.2)\n",
    "    fig = plt.figure(figsize=(axsize[0]+1.5, axsize[1]+.8))\n",
    "    add_sized_axis(fig, axsize, right=True)\n",
    "    #plt.subplots_adjust(left=0.15,right=0.85)\n",
    "    colors_p = iter(get_colors(num=len(data), offset=0.2))\n",
    "    for i, data_p in enumerate(data):\n",
    "        p = i+1\n",
    "        plot_with_range(x, data_p,\n",
    "                        color=next(colors_p),\n",
    "                        label=f'p={p}'\n",
    "                       )\n",
    "\n",
    "    ax = plt.gca()\n",
    "    plt.xlabel('N')\n",
    "    plt.ylabel('Approximation ratio')\n",
    "    plt.legend(title='Averages', loc='upper right', ncol=2)\n",
    "    \n",
    "    plt.grid(alpha=0.3)\n",
    "    ax.yaxis.set_label_position(\"right\")\n",
    "    ax.yaxis.tick_right()\n",
    "    plt.ylim(0.68, 1.05)\n",
    "    \n",
    "    if guarantees:\n",
    "        colors_p = iter(get_colors(num=len(data), offset=0.2))\n",
    "        guarantees = [qtensor.tools.BETHE_QAOA_VALUES[str(p)]['val'] for p in range(1, 5)]\n",
    "        rightpos = max(x)*1.5\n",
    "        for g_p in guarantees:\n",
    "            plt.hlines(g_p, max(x)/1.2, rightpos,\n",
    "                       color=next(colors_p),\n",
    "                       linestyle='--', linewidth=2)\n",
    "        plt.xlim(min(x)/1.2, rightpos)\n",
    "        guarantee_ticks = [np.round(x, 3) for x in guarantees]\n",
    "        ticks = guarantees + [0.85, 0.90, 0.95, 1.00]\n",
    "        plt.yticks(ticks=ticks, labels=[np.round(x, 2) for x in ticks])\n",
    "\n",
    "    return fig"
   ]
  },
  {
   "cell_type": "code",
   "execution_count": 11,
   "metadata": {},
   "outputs": [
    {
     "name": "stdout",
     "output_type": "stream",
     "text": [
      "Number of seeds = 32\n"
     ]
    },
    {
     "data": {
      "image/png": "[encoded data removed]",
      "text/plain": [
       "<Figure size 540x324.596 with 1 Axes>"
      ]
     },
     "metadata": {
      "needs_background": "light"
     },
     "output_type": "display_data"
    }
   ],
   "source": [
    "plot_ar_p(SIZES, qaoa_sol/gurobi_sol[:,:len(qaoa_sol.seed)], c_prim, c_sec)\n",
    "print('Number of seeds =', len(qaoa_sol.seed))\n",
    "plt.xscale('log', base=2)\n",
    "plt.savefig('./pdf/ar_vs_N.pdf')"
   ]
  },
  {
   "cell_type": "markdown",
   "metadata": {},
   "source": [
    "---\n",
    "## _Post Scriptum_"
   ]
  },
  {
   "cell_type": "code",
   "execution_count": 28,
   "metadata": {},
   "outputs": [],
   "source": [
    "def plot_pr_p(x, data, c_prim, c_sec, alpha=0.15, axsize=(6, 6/1.618)):\n",
    "    margin = (0.2, 0.2)\n",
    "    fig = plt.figure(figsize=(axsize[0]+1.5, axsize[1]+.8))\n",
    "    add_sized_axis(fig, axsize)\n",
    "    #plt.subplots_adjust(left=0.15,right=0.85)\n",
    "    colors_p = iter(get_colors(num=len(data), offset=0.2))\n",
    "    for i, data_p in enumerate(data):\n",
    "        p = i+1\n",
    "        plot_with_range(x, data_p,\n",
    "                        color=next(colors_p),\n",
    "                        label=f'p={p}'\n",
    "                       )\n",
    "\n",
    "    plt.hlines(1, min(x), max(x), color=c_sec, linestyle='--')\n",
    "\n",
    "    ax = plt.gca()\n",
    "    plt.ylim(0.67, 1.01)\n",
    "    plt.xlabel('p')\n",
    "    plt.ylabel('Performance ratio')\n",
    "    plt.legend(title='Averages', loc='lower right', ncol=2)\n",
    "    plt.grid(alpha=0.3)\n",
    "    print(plt.gca().dataLim.bounds)\n",
    "    return fig\n"
   ]
  },
  {
   "cell_type": "code",
   "execution_count": 51,
   "metadata": {
    "scrolled": true
   },
   "outputs": [
    {
     "ename": "ValueError",
     "evalue": "operands could not be broadcast together with shapes (4,6,10) (4,6) ",
     "output_type": "error",
     "traceback": [
      "\u001b[0;31m---------------------------------------------------------------------------\u001b[0m",
      "\u001b[0;31mValueError\u001b[0m                                Traceback (most recent call last)",
      "\u001b[0;32m<ipython-input-51-dd53a291860c>\u001b[0m in \u001b[0;36m<module>\u001b[0;34m\u001b[0m\n\u001b[0;32m----> 1\u001b[0;31m \u001b[0mplot_pr_p\u001b[0m\u001b[0;34m(\u001b[0m\u001b[0mSIZES\u001b[0m\u001b[0;34m,\u001b[0m \u001b[0mqaoa_sol\u001b[0m\u001b[0;34m/\u001b[0m\u001b[0mgw_sol\u001b[0m\u001b[0;34m[\u001b[0m\u001b[0;34m:\u001b[0m\u001b[0;34m-\u001b[0m\u001b[0;36m1\u001b[0m\u001b[0;34m,\u001b[0m\u001b[0;34m:\u001b[0m\u001b[0;36m4\u001b[0m\u001b[0;34m]\u001b[0m\u001b[0;34m.\u001b[0m\u001b[0mT\u001b[0m\u001b[0;34m,\u001b[0m \u001b[0mc_prim\u001b[0m\u001b[0;34m,\u001b[0m \u001b[0mc_sec\u001b[0m\u001b[0;34m)\u001b[0m\u001b[0;34m\u001b[0m\u001b[0;34m\u001b[0m\u001b[0m\n\u001b[0m\u001b[1;32m      2\u001b[0m \u001b[0mplt\u001b[0m\u001b[0;34m.\u001b[0m\u001b[0mxscale\u001b[0m\u001b[0;34m(\u001b[0m\u001b[0;34m'log'\u001b[0m\u001b[0;34m,\u001b[0m \u001b[0mbase\u001b[0m\u001b[0;34m=\u001b[0m\u001b[0;36m2\u001b[0m\u001b[0;34m)\u001b[0m\u001b[0;34m\u001b[0m\u001b[0;34m\u001b[0m\u001b[0m\n\u001b[1;32m      3\u001b[0m \u001b[0;34m\u001b[0m\u001b[0m\n\u001b[1;32m      4\u001b[0m \u001b[0mplt\u001b[0m\u001b[0;34m.\u001b[0m\u001b[0msavefig\u001b[0m\u001b[0;34m(\u001b[0m\u001b[0;34m'./pdf/pr_vs_N.pdf'\u001b[0m\u001b[0;34m)\u001b[0m\u001b[0;34m\u001b[0m\u001b[0;34m\u001b[0m\u001b[0m\n",
      "\u001b[0;32m~/.local/bin/lib/python3.8/site-packages/xarray/core/dataarray.py\u001b[0m in \u001b[0;36mfunc\u001b[0;34m(self, other)\u001b[0m\n\u001b[1;32m   2763\u001b[0m \u001b[0;34m\u001b[0m\u001b[0m\n\u001b[1;32m   2764\u001b[0m             variable = (\n\u001b[0;32m-> 2765\u001b[0;31m                 \u001b[0mf\u001b[0m\u001b[0;34m(\u001b[0m\u001b[0mself\u001b[0m\u001b[0;34m.\u001b[0m\u001b[0mvariable\u001b[0m\u001b[0;34m,\u001b[0m \u001b[0mother_variable\u001b[0m\u001b[0;34m)\u001b[0m\u001b[0;34m\u001b[0m\u001b[0;34m\u001b[0m\u001b[0m\n\u001b[0m\u001b[1;32m   2766\u001b[0m                 \u001b[0;32mif\u001b[0m \u001b[0;32mnot\u001b[0m \u001b[0mreflexive\u001b[0m\u001b[0;34m\u001b[0m\u001b[0;34m\u001b[0m\u001b[0m\n\u001b[1;32m   2767\u001b[0m                 \u001b[0;32melse\u001b[0m \u001b[0mf\u001b[0m\u001b[0;34m(\u001b[0m\u001b[0mother_variable\u001b[0m\u001b[0;34m,\u001b[0m \u001b[0mself\u001b[0m\u001b[0;34m.\u001b[0m\u001b[0mvariable\u001b[0m\u001b[0;34m)\u001b[0m\u001b[0;34m\u001b[0m\u001b[0;34m\u001b[0m\u001b[0m\n",
      "\u001b[0;32m~/.local/bin/lib/python3.8/site-packages/xarray/core/variable.py\u001b[0m in \u001b[0;36mfunc\u001b[0;34m(self, other)\u001b[0m\n\u001b[1;32m   2128\u001b[0m             \u001b[0;32mwith\u001b[0m \u001b[0mnp\u001b[0m\u001b[0;34m.\u001b[0m\u001b[0merrstate\u001b[0m\u001b[0;34m(\u001b[0m\u001b[0mall\u001b[0m\u001b[0;34m=\u001b[0m\u001b[0;34m\"ignore\"\u001b[0m\u001b[0;34m)\u001b[0m\u001b[0;34m:\u001b[0m\u001b[0;34m\u001b[0m\u001b[0;34m\u001b[0m\u001b[0m\n\u001b[1;32m   2129\u001b[0m                 new_data = (\n\u001b[0;32m-> 2130\u001b[0;31m                     \u001b[0mf\u001b[0m\u001b[0;34m(\u001b[0m\u001b[0mself_data\u001b[0m\u001b[0;34m,\u001b[0m \u001b[0mother_data\u001b[0m\u001b[0;34m)\u001b[0m\u001b[0;34m\u001b[0m\u001b[0;34m\u001b[0m\u001b[0m\n\u001b[0m\u001b[1;32m   2131\u001b[0m                     \u001b[0;32mif\u001b[0m \u001b[0;32mnot\u001b[0m \u001b[0mreflexive\u001b[0m\u001b[0;34m\u001b[0m\u001b[0;34m\u001b[0m\u001b[0m\n\u001b[1;32m   2132\u001b[0m                     \u001b[0;32melse\u001b[0m \u001b[0mf\u001b[0m\u001b[0;34m(\u001b[0m\u001b[0mother_data\u001b[0m\u001b[0;34m,\u001b[0m \u001b[0mself_data\u001b[0m\u001b[0;34m)\u001b[0m\u001b[0;34m\u001b[0m\u001b[0;34m\u001b[0m\u001b[0m\n",
      "\u001b[0;31mValueError\u001b[0m: operands could not be broadcast together with shapes (4,6,10) (4,6) "
     ]
    }
   ],
   "source": [
    "plot_pr_p(SIZES, qaoa_sol/gw_sol[:-1,:4], c_prim, c_sec)\n",
    "plt.xscale('log', base=2)\n",
    "\n",
    "plt.savefig('./pdf/pr_vs_N.pdf')"
   ]
  },
  {
   "cell_type": "markdown",
   "metadata": {},
   "source": [
    "### derivative of AR vs N"
   ]
  },
  {
   "cell_type": "code",
   "execution_count": 46,
   "metadata": {},
   "outputs": [
    {
     "data": {
      "image/png": "[encoded data removed]",
      "text/plain": [
       "<Figure size 432x288 with 1 Axes>"
      ]
     },
     "metadata": {
      "needs_background": "light"
     },
     "output_type": "display_data"
    }
   ],
   "source": [
    "rt = qaoa_sol.data/gurobi_sol.data[:,:len(qaoa_sol.seed)]\n",
    "tt = rt[:, 1:] - rt[:, :-1]\n",
    "colors = iter(get_colors(len(tt)))\n",
    "for x in tt:\n",
    "    plot_with_range(qaoa_sol.N[:-1], x, color=next(colors))\n",
    "plt.ylabel('diff of above plot')\n",
    "plt.xscale('log', base=2)"
   ]
  },
  {
   "cell_type": "markdown",
   "metadata": {},
   "source": [
    "### double-check the data\n"
   ]
  },
  {
   "cell_type": "code",
   "execution_count": 81,
   "metadata": {},
   "outputs": [
    {
     "name": "stdout",
     "output_type": "stream",
     "text": [
      "Gurobi Optimizer version 9.1.2 build v9.1.2rc0 (linux64)\n",
      "Thread count: 56 physical cores, 112 logical processors, using up to 32 threads\n",
      "Optimize a model with 0 rows, 64 columns and 0 nonzeros\n",
      "Model fingerprint: 0xb29fb9dd\n",
      "Model has 96 quadratic objective terms\n",
      "Variable types: 0 continuous, 64 integer (64 binary)\n",
      "Coefficient statistics:\n",
      "  Matrix range     [0e+00, 0e+00]\n",
      "  Objective range  [3e+00, 3e+00]\n",
      "  QObjective range [4e+00, 4e+00]\n",
      "  Bounds range     [1e+00, 1e+00]\n",
      "  RHS range        [0e+00, 0e+00]\n",
      "Found heuristic solution: objective -0.0000000\n",
      "Presolve time: 0.00s\n",
      "Presolved: 96 rows, 160 columns, 288 nonzeros\n",
      "Variable types: 0 continuous, 160 integer (160 binary)\n",
      "\n",
      "Root relaxation: objective -9.600000e+01, 66 iterations, 0.00 seconds\n",
      "\n",
      "    Nodes    |    Current Node    |     Objective Bounds      |     Work\n",
      " Expl Unexpl |  Obj  Depth IntInf | Incumbent    BestBd   Gap | It/Node Time\n",
      "\n",
      "     0     0   96.00000    0   64   -0.00000   96.00000      -     -    0s\n",
      "H    0     0                      78.0000000   96.00000  23.1%     -    0s\n",
      "H    0     0                      80.0000000   96.00000  20.0%     -    0s\n",
      "     0     0   92.00000    0   68   80.00000   92.00000  15.0%     -    0s\n",
      "H    0     0                      85.0000000   92.00000  8.24%     -    0s\n",
      "H    0     0                      86.0000000   90.50000  5.23%     -    0s\n",
      "     0     0   89.00000    0   74   86.00000   89.00000  3.49%     -    0s\n",
      "H    0     0                      87.0000000   89.00000  2.30%     -    0s\n",
      "     0     0   88.16667    0   81   87.00000   88.16667  1.34%     -    0s\n",
      "\n",
      "Cutting planes:\n",
      "  Gomory: 4\n",
      "  MIR: 1\n",
      "  Zero half: 24\n",
      "\n",
      "Explored 1 nodes (359 simplex iterations) in 0.07 seconds\n",
      "Thread count was 32 (of 112 available processors)\n",
      "\n",
      "Solution count 6: 87 86 85 ... -0\n",
      "\n",
      "Optimal solution found (tolerance 1.00e-04)\n",
      "Best objective 8.700000000000e+01, best bound 8.700000000000e+01, gap 0.0000%\n",
      "Gurobi Optimizer version 9.1.2 build v9.1.2rc0 (linux64)\n",
      "Thread count: 56 physical cores, 112 logical processors, using up to 32 threads\n",
      "Optimize a model with 0 rows, 16 columns and 0 nonzeros\n",
      "Model fingerprint: 0xdcd845f1\n",
      "Model has 24 quadratic objective terms\n",
      "Variable types: 0 continuous, 16 integer (16 binary)\n",
      "Coefficient statistics:\n",
      "  Matrix range     [0e+00, 0e+00]\n",
      "  Objective range  [3e+00, 3e+00]\n",
      "  QObjective range [4e+00, 4e+00]\n",
      "  Bounds range     [1e+00, 1e+00]\n",
      "  RHS range        [0e+00, 0e+00]\n",
      "Found heuristic solution: objective -0.0000000\n",
      "Presolve time: 0.00s\n",
      "Presolved: 24 rows, 40 columns, 72 nonzeros\n",
      "Variable types: 0 continuous, 40 integer (40 binary)\n",
      "\n",
      "Root relaxation: objective -2.400000e+01, 16 iterations, 0.00 seconds\n",
      "\n",
      "    Nodes    |    Current Node    |     Objective Bounds      |     Work\n",
      " Expl Unexpl |  Obj  Depth IntInf | Incumbent    BestBd   Gap | It/Node Time\n",
      "\n",
      "     0     0   24.00000    0   16   -0.00000   24.00000      -     -    0s\n",
      "H    0     0                      22.0000000   24.00000  9.09%     -    0s\n",
      "\n",
      "Cutting planes:\n",
      "  Gomory: 1\n",
      "  Zero half: 2\n",
      "\n",
      "Explored 1 nodes (19 simplex iterations) in 0.02 seconds\n",
      "Thread count was 32 (of 112 available processors)\n",
      "\n",
      "Solution count 2: 22 -0 \n",
      "\n",
      "Optimal solution found (tolerance 1.00e-04)\n",
      "Best objective 2.200000000000e+01, best bound 2.200000000000e+01, gap 0.0000%\n",
      "Gurobi Optimizer version 9.1.2 build v9.1.2rc0 (linux64)\n",
      "Thread count: 56 physical cores, 112 logical processors, using up to 32 threads\n",
      "Optimize a model with 0 rows, 256 columns and 0 nonzeros\n",
      "Model fingerprint: 0xd467ecc0\n",
      "Model has 384 quadratic objective terms\n",
      "Variable types: 0 continuous, 256 integer (256 binary)\n",
      "Coefficient statistics:\n",
      "  Matrix range     [0e+00, 0e+00]\n",
      "  Objective range  [3e+00, 3e+00]\n",
      "  QObjective range [4e+00, 4e+00]\n",
      "  Bounds range     [1e+00, 1e+00]\n",
      "  RHS range        [0e+00, 0e+00]\n",
      "Found heuristic solution: objective -0.0000000\n",
      "Presolve time: 0.00s\n",
      "Presolved: 384 rows, 640 columns, 1152 nonzeros\n",
      "Variable types: 0 continuous, 640 integer (640 binary)\n",
      "\n",
      "Root relaxation: objective -3.840000e+02, 275 iterations, 0.00 seconds\n",
      "\n",
      "    Nodes    |    Current Node    |     Objective Bounds      |     Work\n",
      " Expl Unexpl |  Obj  Depth IntInf | Incumbent    BestBd   Gap | It/Node Time\n",
      "\n",
      "     0     0  384.00000    0  256   -0.00000  384.00000      -     -    0s\n",
      "H    0     0                     323.0000000  384.00000  18.9%     -    0s\n",
      "     0     0  373.50000    0  264  323.00000  373.50000  15.6%     -    0s\n",
      "H    0     0                     339.0000000  373.50000  10.2%     -    0s\n",
      "     0     0  367.55000    0  291  339.00000  367.55000  8.42%     -    0s\n",
      "     0     0  367.55000    0  269  339.00000  367.55000  8.42%     -    0s\n",
      "     0     2  367.55000    0  269  339.00000  367.55000  8.42%     -    0s\n",
      "H   39    64                     340.0000000  364.00000  7.06%   105    0s\n",
      "H   95   128                     352.0000000  363.50000  3.27%   106    1s\n",
      "H  159   192                     353.0000000  363.50000  2.97%   122    1s\n",
      "H  483   463                     354.0000000  363.50000  2.68%  90.5    1s\n",
      "\n",
      "Cutting planes:\n",
      "  Gomory: 31\n",
      "  MIR: 1\n",
      "  Zero half: 161\n",
      "\n",
      "Explored 6893 nodes (530411 simplex iterations) in 3.61 seconds\n",
      "Thread count was 32 (of 112 available processors)\n",
      "\n",
      "Solution count 8: 354 353 353 ... -0\n",
      "\n",
      "Optimal solution found (tolerance 1.00e-04)\n",
      "Best objective 3.540000000000e+02, best bound 3.540000000000e+02, gap 0.0000%\n"
     ]
    }
   ],
   "source": [
    "# this should not raise any errors\n",
    "for ni, si in [(3, 4), (1, 2), (5, 2)]:\n",
    "    cost, sol = qtensor.tools.maxcut.gurobi_maxcut(graphs[ni, si])\n",
    "    assert cost == gurobi_sol[ni, si]"
   ]
  },
  {
   "cell_type": "code",
   "execution_count": 42,
   "metadata": {},
   "outputs": [
    {
     "name": "stdout",
     "output_type": "stream",
     "text": [
      "(8.0, 0.805265436256967, 504.0, 0.194734563743033)\n"
     ]
    },
    {
     "data": {
      "image/png": "[encoded data removed]",
      "text/plain": [
       "<Figure size 540x324.596 with 1 Axes>"
      ]
     },
     "metadata": {
      "needs_background": "light"
     },
     "output_type": "display_data"
    }
   ],
   "source": [
    "plt.xscale('log', base=2)"
   ]
  },
  {
   "cell_type": "code",
   "execution_count": null,
   "metadata": {},
   "outputs": [],
   "source": []
  }
 ],
 "metadata": {
  "kernelspec": {
   "display_name": "Python 3",
   "language": "python",
   "name": "python3"
  },
  "language_info": {
   "codemirror_mode": {
    "name": "ipython",
    "version": 3
   },
   "file_extension": ".py",
   "mimetype": "text/x-python",
   "name": "python",
   "nbconvert_exporter": "python",
   "pygments_lexer": "ipython3",
   "version": "3.8.2"
  },
  "toc": {
   "base_numbering": 1,
   "nav_menu": {},
   "number_sections": true,
   "sideBar": true,
   "skip_h1_title": true,
   "title_cell": "Table of Contents",
   "title_sidebar": "Contents",
   "toc_cell": false,
   "toc_position": {},
   "toc_section_display": true,
   "toc_window_display": true
  },
  "varInspector": {
   "cols": {
    "lenName": 16,
    "lenType": 16,
    "lenVar": 40
   },
   "kernels_config": {
    "python": {
     "delete_cmd_postfix": "",
     "delete_cmd_prefix": "del ",
     "library": "var_list.py",
     "varRefreshCmd": "print(var_dic_list())"
    },
    "r": {
     "delete_cmd_postfix": ") ",
     "delete_cmd_prefix": "rm(",
     "library": "var_list.r",
     "varRefreshCmd": "cat(var_dic_list()) "
    }
   },
   "types_to_exclude": [
    "module",
    "function",
    "builtin_function_or_method",
    "instance",
    "_Feature"
   ],
   "window_display": false
  }
 },
 "nbformat": 4,
 "nbformat_minor": 4
}
