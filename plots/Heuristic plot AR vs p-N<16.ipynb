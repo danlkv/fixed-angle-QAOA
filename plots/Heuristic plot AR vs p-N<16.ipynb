{
 "cells": [
  {
   "cell_type": "markdown",
   "metadata": {
    "toc": true
   },
   "source": [
    "<h1>Table of Contents<span class=\"tocSkip\"></span></h1>\n",
    "<div class=\"toc\"><ul class=\"toc-item\"><li><span><a href=\"#Read-data\" data-toc-modified-id=\"Read-data-1\"><span class=\"toc-item-num\">1&nbsp;&nbsp;</span>Read data</a></span></li><li><span><a href=\"#Plot-data\" data-toc-modified-id=\"Plot-data-2\"><span class=\"toc-item-num\">2&nbsp;&nbsp;</span>Plot data</a></span><ul class=\"toc-item\"><li><span><a href=\"#Approximation-ratio\" data-toc-modified-id=\"Approximation-ratio-2.1\"><span class=\"toc-item-num\">2.1&nbsp;&nbsp;</span>Approximation ratio</a></span></li><li><span><a href=\"#Performance-ratio\" data-toc-modified-id=\"Performance-ratio-2.2\"><span class=\"toc-item-num\">2.2&nbsp;&nbsp;</span>Performance ratio</a></span></li></ul></li></ul></div>"
   ]
  },
  {
   "cell_type": "code",
   "execution_count": 2,
   "metadata": {},
   "outputs": [],
   "source": [
    "import matplotlib.pyplot as plt\n",
    "import matplotlib as mpl\n",
    "import numpy as np\n",
    "import qtensor"
   ]
  },
  {
   "cell_type": "markdown",
   "metadata": {},
   "source": [
    "# Heuristic plot Approximation Ratio vs p"
   ]
  },
  {
   "cell_type": "code",
   "execution_count": 3,
   "metadata": {},
   "outputs": [],
   "source": [
    "import json\n",
    "import collections\n",
    "mpl.rcParams.update({'font.size': 16})\n",
    "\n",
    "NMAX = 2500"
   ]
  },
  {
   "cell_type": "markdown",
   "metadata": {},
   "source": [
    "## Read data"
   ]
  },
  {
   "cell_type": "code",
   "execution_count": 12,
   "metadata": {},
   "outputs": [],
   "source": [
    "DATA_FILE = '../data/ALL_3r_graphs.json'"
   ]
  },
  {
   "cell_type": "code",
   "execution_count": 35,
   "metadata": {},
   "outputs": [
    {
     "name": "stdout",
     "output_type": "stream",
     "text": [
      "Loaded 4681 of 4681 graphs\n",
      "datacollection keys ['GW computation time (sec)', 'edges', 'maxcut', 'GWave', 'Nvertices', 'QAOA_1', 'AR_1', 'WS computation time (sec)', 'QAOA_2', 'AR_2', 'QAOA_3', 'AR_3', 'QAOA_4', 'AR_4', 'QAOA_5', 'AR_5', 'QAOA_6', 'AR_6', 'QAOA_7', 'AR_7', 'QAOA_8', 'AR_8', 'QAOA_9', 'AR_9', 'QAOA_10', 'AR_10', 'QAOA_11', 'AR_11']\n"
     ]
    }
   ],
   "source": [
    "def load_heuristic_ar_data(jsonfile, verbose=True):\n",
    "    datacollection = collections.defaultdict(lambda :[])\n",
    "    data = json.load(open(jsonfile))\n",
    "    if verbose:\n",
    "        print(f'Loaded {len(data)} of 4681 graphs')\n",
    "    datacollection = collections.defaultdict(lambda :[])\n",
    "    for dat in data:\n",
    "        for key in dat.keys():\n",
    "            if True:#len(dat['edges'])<=14*1.5:\n",
    "                datacollection[key] += [dat[key]]\n",
    "            \n",
    "    return datacollection\n",
    "\n",
    "datacol = load_heuristic_ar_data(DATA_FILE)\n",
    "print('datacollection keys', list(datacol.keys()))"
   ]
  },
  {
   "cell_type": "code",
   "execution_count": 22,
   "metadata": {},
   "outputs": [],
   "source": [
    "    \n",
    "def parse_heursitic_ar_data(datacollection):\n",
    "    \"\"\"\n",
    "    Returns:\n",
    "        AR (numpy.array of shape (11, NMAX)): Approximation ratio, optimal cost/qaoa_cost\n",
    "        PR (numpy.array of shape (11, NMAX)): Performance ratio, GW cost/qaoa_cost\n",
    "    \"\"\"\n",
    "    AR = np.zeros([11,len(datacollection['AR_1'])])\n",
    "    PR = np.zeros([11,len(datacollection['AR_1'])])\n",
    "    \n",
    "    for p in range(1,12):\n",
    "        key1 = 'AR_'+str(p)\n",
    "        key2 = 'QAOA_'+str(p)\n",
    "        key3 = 'GWave'\n",
    "        AR[p-1] = datacollection[key1]\n",
    "        PR[p-1] = np.array(datacollection[key2])/np.array(datacollection[key3])\n",
    "\n",
    "    return AR, PR"
   ]
  },
  {
   "cell_type": "code",
   "execution_count": 23,
   "metadata": {},
   "outputs": [],
   "source": [
    "AR, PR = parse_heursitic_ar_data(datacol)"
   ]
  },
  {
   "cell_type": "code",
   "execution_count": 24,
   "metadata": {},
   "outputs": [],
   "source": [
    "def get_guarantees(ps=range(1, 12), degree=3):\n",
    "    guarantees = [qtensor.tools.BETHE_QAOA_VALUES[str(p)]['val'] for p in ps]\n",
    "    return guarantees"
   ]
  },
  {
   "cell_type": "code",
   "execution_count": 25,
   "metadata": {},
   "outputs": [],
   "source": [
    "guarantees = get_guarantees(ps=range(1, 12), degree=3)"
   ]
  },
  {
   "cell_type": "markdown",
   "metadata": {},
   "source": [
    "## Plot data"
   ]
  },
  {
   "cell_type": "code",
   "execution_count": 64,
   "metadata": {},
   "outputs": [],
   "source": [
    "def get_colors(num=2, offset=0.25, cmap=mpl.cm.gnuplot2):\n",
    "    \"\"\"\n",
    "    returns:\n",
    "        Array of len ``num``.\n",
    "    \"\"\"\n",
    "    \n",
    "    return np.array([cmap(x) for x in np.linspace(offset, 1-offset, num)])\n",
    "\n",
    "c_prim, c_sec = get_colors(offset=0.25)"
   ]
  },
  {
   "cell_type": "code",
   "execution_count": 27,
   "metadata": {},
   "outputs": [],
   "source": [
    "from mpl_toolkits.axes_grid1 import Divider, Size\n",
    "\n",
    "def add_sized_axis(fig, axsize):\n",
    "    # The first items are for padding and the second items are for the axes.\n",
    "    # sizes are in inch.\n",
    "    h = [Size.Fixed(1.0), Size.Fixed(axsize[0]), Size.Fixed(.5)]\n",
    "    v = [Size.Fixed(0.7), Size.Fixed(axsize[1])]\n",
    "\n",
    "    divider = Divider(fig, (0, 0, 1, 1), h, v, aspect=False)\n",
    "    # The width and height of the rectangle are ignored.\n",
    "\n",
    "    ax = fig.add_axes(divider.get_position(),\n",
    "                      axes_locator=divider.new_locator(nx=1, ny=1))"
   ]
  },
  {
   "cell_type": "markdown",
   "metadata": {},
   "source": [
    "### Approximation ratio\n"
   ]
  },
  {
   "cell_type": "code",
   "execution_count": 28,
   "metadata": {},
   "outputs": [],
   "source": [
    "def plot_ar(x, data, c_prim, c_sec, alpha=0.15, axsize=(6, 6/1.618)):\n",
    "    fig = plt.figure(figsize=(axsize[0]+1.5, axsize[1]+.8))\n",
    "    add_sized_axis(fig, axsize)\n",
    "    #plt.subplots_adjust(left=0.15,right=0.85)\n",
    "\n",
    "    mi = data.min(1)\n",
    "    av = np.average(data, 1)\n",
    "    ma = data.max(1)\n",
    "\n",
    "\n",
    "    plt.plot(x, av,'o-', label='Average', color=c_prim)\n",
    "    #plt.plot(np.arange(1,12),maxAR,'.-',label='Max', color=c_prim)\n",
    "    #plt.plot(np.arange(1,12),minAR,'.-', label='Minimum', color=c_prim)\n",
    "    plt.fill_between(x, mi, ma, color=c_prim, alpha=alpha, label='Value range')\n",
    "\n",
    "    plt.plot(x, guarantees,'o-',label='$\\\\nu=3$ Guarantee', color=c_sec)\n",
    "\n",
    "    #plt.axis([1,11,0.6,1.005])\n",
    "    ax = plt.gca()\n",
    "    ax.set_xticks(np.arange(1,12))\n",
    "    plt.xlabel('p')\n",
    "    plt.ylabel('Approximation ratio')\n",
    "    plt.legend(loc='lower right')\n",
    "    plt.grid(alpha=0.3)\n",
    "    return fig"
   ]
  },
  {
   "cell_type": "code",
   "execution_count": 33,
   "metadata": {},
   "outputs": [
    {
     "data": {
      "image/png": "[encoded data removed]",
      "text/plain": [
       "<Figure size 540x324.596 with 1 Axes>"
      ]
     },
     "metadata": {
      "needs_background": "light"
     },
     "output_type": "display_data"
    }
   ],
   "source": [
    "plot_ar(np.arange(1, 12), AR, c_prim=c_prim, c_sec=c_sec)\n",
    "plt.savefig('../plots/pdf/ar_vs_p_N4-16.pdf')"
   ]
  },
  {
   "cell_type": "markdown",
   "metadata": {},
   "source": [
    "### Performance ratio"
   ]
  },
  {
   "cell_type": "code",
   "execution_count": 36,
   "metadata": {},
   "outputs": [],
   "source": [
    "import xarray as xar"
   ]
  },
  {
   "cell_type": "code",
   "execution_count": 135,
   "metadata": {},
   "outputs": [
    {
     "data": {
      "text/plain": [
       "Coordinates:\n",
       "  * seed     (seed) int32 10 11 12 13 14 15 16 17 18 ... 34 35 36 37 38 39 40 41\n",
       "  * N        (N) int32 8 16 32 64 128 256\n",
       "  * p        (p) int32 1 2 3 4"
      ]
     },
     "execution_count": 135,
     "metadata": {},
     "output_type": "execute_result"
    }
   ],
   "source": [
    "gw_sol = xar.open_dataarray('../data/GW_cost_vs_N.nc')\n",
    "gw_sol = gw_sol.rename({'seeds': 'seed', 'sizes':'N'})\n",
    "qaoa_sol = xar.open_dataarray('../data/QAOA_cost_vs_N.nc')\n",
    "qaoa_sol.coords"
   ]
  },
  {
   "cell_type": "code",
   "execution_count": 136,
   "metadata": {},
   "outputs": [
    {
     "data": {
      "text/plain": [
       "Coordinates:\n",
       "  * seed     (seed) int32 10 11 12 13 14 15 16 17 18 ... 34 35 36 37 38 39 40 41\n",
       "  * N        (N) int32 8 16 32 64 128 256"
      ]
     },
     "execution_count": 136,
     "metadata": {},
     "output_type": "execute_result"
    }
   ],
   "source": [
    "gw_sol.coords"
   ]
  },
  {
   "cell_type": "code",
   "execution_count": 132,
   "metadata": {},
   "outputs": [
    {
     "data": {
      "text/plain": [
       "Coordinates:\n",
       "  * seed     (seed) int32 10 11 12 13 14 15 16 17 18 ... 34 35 36 37 38 39 40 41\n",
       "  * N        (N) int32 64 256\n",
       "  * p        (p) int32 1 2 3 4"
      ]
     },
     "execution_count": 132,
     "metadata": {},
     "output_type": "execute_result"
    }
   ],
   "source": [
    "PR_large = qaoa_sol.sel(N=[64, 256])/gw_sol.sel(N=[64, 256])\n",
    "PR_large.coords"
   ]
  },
  {
   "cell_type": "code",
   "execution_count": 142,
   "metadata": {},
   "outputs": [],
   "source": [
    "def plot_pr(x, data, data_large, alpha=0.15, axsize=(6, 6/1.618)):\n",
    "    margin = (0.2, 0.2)\n",
    "    fig = plt.figure(figsize=(axsize[0]+1.5, axsize[1]+.8))\n",
    "    add_sized_axis(fig, axsize)\n",
    "    #plt.subplots_adjust(left=0.15,right=0.85)\n",
    "    c_prim, *c_other, c_sec = get_colors(4)\n",
    "    c_other=iter(c_other)\n",
    "\n",
    "    mi = data.min(1)\n",
    "    av = np.average(data,1)\n",
    "    ma = data.max(1)\n",
    "\n",
    "\n",
    "    plt.plot(x, av,'o-', label=r'Average, $N \\leq 16$', color=c_prim)\n",
    "    plt.fill_between(x, mi, ma, color=c_prim, alpha=alpha, label='Value range')\n",
    "    \n",
    "    for N in PR_large.N:\n",
    "        plt.plot(PR_large.p, PR_large.sel(N=N).mean('seed'),'o-', label=fr'$N={int(N)}$',\n",
    "                 color=next(c_other))\n",
    "    \n",
    "\n",
    "    plt.hlines(1, min(x)-.5, max(x)+.5, color=c_sec, linestyle='--')\n",
    "    plt.xlim(0.5, 11.5)\n",
    "\n",
    "    #plt.axis([1,11,0.6,1.005])\n",
    "    ax = plt.gca()\n",
    "    ax.set_xticks(np.arange(1,12))\n",
    "    plt.xlabel('p')\n",
    "    plt.ylabel('Performance ratio')\n",
    "    handles, labels = plt.gca().get_legend_handles_labels()\n",
    "    order = [0,3,1,2]\n",
    "    plt.legend([handles[idx] for idx in order],[labels[idx] for idx in order], ncol=2, loc='lower right')\n",
    "    plt.grid(alpha=0.3)\n",
    "    print(plt.gca().dataLim.bounds)\n",
    "    return fig"
   ]
  },
  {
   "cell_type": "code",
   "execution_count": 143,
   "metadata": {},
   "outputs": [
    {
     "name": "stdout",
     "output_type": "stream",
     "text": [
      "(0.5, 0.692450089728131, 11.0, 0.39191116144676774)\n"
     ]
    },
    {
     "data": {
      "image/png": "[encoded data removed]",
      "text/plain": [
       "<Figure size 540x324.596 with 1 Axes>"
      ]
     },
     "metadata": {
      "needs_background": "light"
     },
     "output_type": "display_data"
    }
   ],
   "source": [
    "x = np.arange(1, 12, 1)\n",
    "fig = plot_pr(x, PR, PR_large)\n",
    "plt.savefig('../plots/pdf/pr_vs_pN4-16.pdf')"
   ]
  },
  {
   "cell_type": "code",
   "execution_count": null,
   "metadata": {},
   "outputs": [],
   "source": []
  },
  {
   "cell_type": "code",
   "execution_count": null,
   "metadata": {},
   "outputs": [],
   "source": []
  }
 ],
 "metadata": {
  "kernelspec": {
   "display_name": "Python 3",
   "language": "python",
   "name": "python3"
  },
  "language_info": {
   "codemirror_mode": {
    "name": "ipython",
    "version": 3
   },
   "file_extension": ".py",
   "mimetype": "text/x-python",
   "name": "python",
   "nbconvert_exporter": "python",
   "pygments_lexer": "ipython3",
   "version": "3.8.2"
  },
  "toc": {
   "base_numbering": 1,
   "nav_menu": {},
   "number_sections": true,
   "sideBar": true,
   "skip_h1_title": true,
   "title_cell": "Table of Contents",
   "title_sidebar": "Contents",
   "toc_cell": true,
   "toc_position": {},
   "toc_section_display": true,
   "toc_window_display": true
  },
  "varInspector": {
   "cols": {
    "lenName": 16,
    "lenType": 16,
    "lenVar": 40
   },
   "kernels_config": {
    "python": {
     "delete_cmd_postfix": "",
     "delete_cmd_prefix": "del ",
     "library": "var_list.py",
     "varRefreshCmd": "print(var_dic_list())"
    },
    "r": {
     "delete_cmd_postfix": ") ",
     "delete_cmd_prefix": "rm(",
     "library": "var_list.r",
     "varRefreshCmd": "cat(var_dic_list()) "
    }
   },
   "types_to_exclude": [
    "module",
    "function",
    "builtin_function_or_method",
    "instance",
    "_Feature"
   ],
   "window_display": false
  }
 },
 "nbformat": 4,
 "nbformat_minor": 4
}
