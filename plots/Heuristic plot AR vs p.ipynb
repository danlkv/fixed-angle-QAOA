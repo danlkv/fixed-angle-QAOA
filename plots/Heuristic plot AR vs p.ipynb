{
 "cells": [
  {
   "cell_type": "markdown",
   "metadata": {
    "toc": true
   },
   "source": [
    "<h1>Table of Contents<span class=\"tocSkip\"></span></h1>\n",
    "<div class=\"toc\"><ul class=\"toc-item\"><li><span><a href=\"#Read-data\" data-toc-modified-id=\"Read-data-1\"><span class=\"toc-item-num\">1&nbsp;&nbsp;</span>Read data</a></span></li><li><span><a href=\"#Plot-data\" data-toc-modified-id=\"Plot-data-2\"><span class=\"toc-item-num\">2&nbsp;&nbsp;</span>Plot data</a></span><ul class=\"toc-item\"><li><span><a href=\"#Approximation-ratio\" data-toc-modified-id=\"Approximation-ratio-2.1\"><span class=\"toc-item-num\">2.1&nbsp;&nbsp;</span>Approximation ratio</a></span></li></ul></li></ul></div>"
   ]
  },
  {
   "cell_type": "code",
   "execution_count": 47,
   "metadata": {},
   "outputs": [],
   "source": [
    "import matplotlib.pyplot as plt\n",
    "import matplotlib as mpl\n",
    "import numpy as np\n",
    "import qtensor"
   ]
  },
  {
   "cell_type": "markdown",
   "metadata": {},
   "source": [
    "# Heuristic plot Approximation Ratio vs p"
   ]
  },
  {
   "cell_type": "code",
   "execution_count": 48,
   "metadata": {},
   "outputs": [],
   "source": [
    "from zipfile import ZipFile\n",
    "import collections\n",
    "mpl.rcParams.update({'font.size': 16})\n",
    "\n",
    "NMAX = 2500"
   ]
  },
  {
   "cell_type": "markdown",
   "metadata": {},
   "source": [
    "## Read data"
   ]
  },
  {
   "cell_type": "code",
   "execution_count": 4,
   "metadata": {},
   "outputs": [],
   "source": [
    "DATA_FILE = '../data/graph_ensemble_data2.zip'"
   ]
  },
  {
   "cell_type": "code",
   "execution_count": 10,
   "metadata": {},
   "outputs": [
    {
     "name": "stdout",
     "output_type": "stream",
     "text": [
      "Loaded 2500 graphs!\n"
     ]
    }
   ],
   "source": [
    "def load_heuristic_ar_data(zipfile):\n",
    "    zippy = ZipFile(zipfile,'r')\n",
    "    datacollection = collections.defaultdict(lambda :[])\n",
    "    for fname in [q.filename for q in zippy.filelist][1::]:\n",
    "\n",
    "        fil = zippy.open(fname)\n",
    "        dat = json.load(fil)\n",
    "\n",
    "        for key in dat['values'].keys():\n",
    "            datacollection[key] += [dat['values'][key]]\n",
    "\n",
    "    if len(datacollection)>NMAX: # Some glue to fix an off-by-one error\n",
    "        datacollection = {a:datacollection[a] for a in list(datacollection.keys())[0:NMAX]}\n",
    "\n",
    "    zippy.close()\n",
    "    return datacollection\n",
    "\n",
    "datacol = load_heuristic_ar_data(DATA_FILE)\n",
    "print('Loaded {:0.0f} graphs!'.format(len(datacol)))"
   ]
  },
  {
   "cell_type": "code",
   "execution_count": 14,
   "metadata": {},
   "outputs": [],
   "source": [
    "def parse_heursitic_ar_data(datacollection):\n",
    "    \"\"\"\n",
    "    Returns:\n",
    "        AR (numpy.array of shape (11, NMAX)): Approximation ratio, optimal cost/qaoa_cost\n",
    "        PR (numpy.array of shape (11, NMAX)): Performance ratio, GW cost/qaoa_cost\n",
    "    \"\"\"\n",
    "\n",
    "    AR = np.zeros([11,len(datacollection)])\n",
    "    PR = np.zeros([11,len(datacollection)])\n",
    "    for p in range(1,12):\n",
    "        for ctr,graph in enumerate(datacollection.values()):\n",
    "            AR[p-1,ctr] = graph[0][str(p)]/graph[0]['0']\n",
    "            PR[p-1,ctr] = graph[0][str(p)]/graph[0]['-1']\n",
    "\n",
    "    return AR, PR"
   ]
  },
  {
   "cell_type": "code",
   "execution_count": 15,
   "metadata": {},
   "outputs": [],
   "source": [
    "AR, PR = parse_heursitic_ar_data(datacol)"
   ]
  },
  {
   "cell_type": "code",
   "execution_count": 16,
   "metadata": {},
   "outputs": [],
   "source": [
    "def get_guarantees(ps=range(1, 12), degree=3):\n",
    "    guarantees = [qtensor.tools.BETHE_QAOA_VALUES[str(p)]['val'] for p in ps]\n",
    "    return guarantees"
   ]
  },
  {
   "cell_type": "code",
   "execution_count": 18,
   "metadata": {},
   "outputs": [],
   "source": [
    "guarantees = get_guarantees(ps=range(1, 12), degree=3)"
   ]
  },
  {
   "cell_type": "markdown",
   "metadata": {},
   "source": [
    "## Plot data"
   ]
  },
  {
   "cell_type": "code",
   "execution_count": 66,
   "metadata": {},
   "outputs": [],
   "source": [
    "def get_colors(offset=0.25, cmap=mpl.cm.gnuplot2):\n",
    "    \"\"\"\n",
    "    returns:\n",
    "        primary, secondary: colors to use in plots\n",
    "    \"\"\"\n",
    "    return cmap(offset), cmap(1-offset)\n",
    "\n",
    "c_prim, c_sec = get_colors(offset=0.25)"
   ]
  },
  {
   "cell_type": "code",
   "execution_count": 224,
   "metadata": {},
   "outputs": [],
   "source": [
    "from mpl_toolkits.axes_grid1 import Divider, Size\n",
    "\n",
    "def add_sized_axis(fig, axsize):\n",
    "    # The first items are for padding and the second items are for the axes.\n",
    "    # sizes are in inch.\n",
    "    h = [Size.Fixed(1.0), Size.Fixed(axsize[0]), Size.Fixed(.5)]\n",
    "    v = [Size.Fixed(0.7), Size.Fixed(axsize[1])]\n",
    "\n",
    "    divider = Divider(fig, (0, 0, 1, 1), h, v, aspect=False)\n",
    "    # The width and height of the rectangle are ignored.\n",
    "\n",
    "    ax = fig.add_axes(divider.get_position(),\n",
    "                      axes_locator=divider.new_locator(nx=1, ny=1))"
   ]
  },
  {
   "cell_type": "markdown",
   "metadata": {},
   "source": [
    "### Approximation ratio\n"
   ]
  },
  {
   "cell_type": "code",
   "execution_count": 233,
   "metadata": {},
   "outputs": [],
   "source": [
    "def plot_ar(x, data, c_prim, c_sec, alpha=0.15, axsize=(6, 6/1.618)):\n",
    "    fig = plt.figure(figsize=(axsize[0]+1.5, axsize[1]+.8))\n",
    "    add_sized_axis(fig, axsize)\n",
    "    #plt.subplots_adjust(left=0.15,right=0.85)\n",
    "\n",
    "    mi = data.min(1)\n",
    "    av = np.average(data, 1)\n",
    "    ma = data.max(1)\n",
    "\n",
    "\n",
    "    plt.plot(x, av,'o-', label='Average', color=c_prim)\n",
    "    #plt.plot(np.arange(1,12),maxAR,'.-',label='Max', color=c_prim)\n",
    "    #plt.plot(np.arange(1,12),minAR,'.-', label='Minimum', color=c_prim)\n",
    "    plt.fill_between(x, mi, ma, color=c_prim, alpha=alpha, label='Value range')\n",
    "\n",
    "    plt.plot(x, guarantees,'o-',label='$\\\\nu=3$ Guarantee', color=c_sec)\n",
    "\n",
    "    #plt.axis([1,11,0.6,1.005])\n",
    "    ax = plt.gca()\n",
    "    ax.set_xticks(np.arange(1,12))\n",
    "    plt.xlabel('p')\n",
    "    plt.ylabel('Approximation ratio')\n",
    "    plt.legend(loc='lower right')\n",
    "    plt.grid(alpha=0.3)\n",
    "    return fig"
   ]
  },
  {
   "cell_type": "code",
   "execution_count": 234,
   "metadata": {},
   "outputs": [
    {
     "data": {
      "image/png": "[encoded data removed]",
      "text/plain": [
       "<Figure size 540x324.596 with 1 Axes>"
      ]
     },
     "metadata": {
      "needs_background": "light"
     },
     "output_type": "display_data"
    }
   ],
   "source": [
    "plot_ar(np.arange(1, 12), AR, c_prim=c_prim, c_sec=c_sec)\n",
    "plt.savefig('../plots/pdf/ar_vs_p.pdf')"
   ]
  },
  {
   "cell_type": "code",
   "execution_count": 235,
   "metadata": {},
   "outputs": [],
   "source": [
    "def plot_pr(x, data, c_prim, c_sec, alpha=0.15, axsize=(6, 6/1.618)):\n",
    "    margin = (0.2, 0.2)\n",
    "    fig = plt.figure(figsize=(axsize[0]+1.5, axsize[1]+.8))\n",
    "    add_sized_axis(fig, axsize)\n",
    "    #plt.subplots_adjust(left=0.15,right=0.85)\n",
    "\n",
    "    mi = data.min(1)\n",
    "    av = np.average(data,1)\n",
    "    ma = data.max(1)\n",
    "\n",
    "\n",
    "    plt.plot(x, av,'o-', label='Average', color=c_prim)\n",
    "    #plt.plot(np.arange(1,12),maxAR,'.-',label='Max', color=c_prim)\n",
    "    #plt.plot(np.arange(1,12),minAR,'.-', label='Minimum', color=c_prim)\n",
    "    plt.fill_between(x, mi, ma, color=c_prim, alpha=alpha, label='Value range')\n",
    "\n",
    "    plt.hlines(min(x), max(x), 1, color=c_sec, linestyle='--')\n",
    "\n",
    "    #plt.axis([1,11,0.6,1.005])\n",
    "    ax = plt.gca()\n",
    "    ax.set_xticks(np.arange(1,12))\n",
    "    plt.xlabel('p')\n",
    "    plt.ylabel('Performance ratio')\n",
    "    plt.legend(loc='lower right')\n",
    "    plt.grid(alpha=0.3)\n",
    "    print(plt.gca().dataLim.bounds)\n",
    "    return fig"
   ]
  },
  {
   "cell_type": "code",
   "execution_count": 236,
   "metadata": {},
   "outputs": [
    {
     "name": "stdout",
     "output_type": "stream",
     "text": [
      "(1.0, 0.6924500897281322, 10.0, 0.380310419582358)\n"
     ]
    },
    {
     "data": {
      "image/png": "[encoded data removed]",
      "text/plain": [
       "<Figure size 540x324.596 with 1 Axes>"
      ]
     },
     "metadata": {
      "needs_background": "light"
     },
     "output_type": "display_data"
    }
   ],
   "source": [
    "fig = plot_pr(x, PR, c_prim=c_prim, c_sec=c_sec)\n",
    "plt.savefig('../plots/pdf/pr_vs_p.pdf')"
   ]
  },
  {
   "cell_type": "code",
   "execution_count": null,
   "metadata": {},
   "outputs": [],
   "source": []
  },
  {
   "cell_type": "code",
   "execution_count": null,
   "metadata": {},
   "outputs": [],
   "source": []
  }
 ],
 "metadata": {
  "kernelspec": {
   "display_name": "Python 3",
   "language": "python",
   "name": "python3"
  },
  "language_info": {
   "codemirror_mode": {
    "name": "ipython",
    "version": 3
   },
   "file_extension": ".py",
   "mimetype": "text/x-python",
   "name": "python",
   "nbconvert_exporter": "python",
   "pygments_lexer": "ipython3",
   "version": "3.8.2"
  },
  "toc": {
   "base_numbering": 1,
   "nav_menu": {},
   "number_sections": true,
   "sideBar": true,
   "skip_h1_title": true,
   "title_cell": "Table of Contents",
   "title_sidebar": "Contents",
   "toc_cell": true,
   "toc_position": {},
   "toc_section_display": true,
   "toc_window_display": true
  },
  "varInspector": {
   "cols": {
    "lenName": 16,
    "lenType": 16,
    "lenVar": 40
   },
   "kernels_config": {
    "python": {
     "delete_cmd_postfix": "",
     "delete_cmd_prefix": "del ",
     "library": "var_list.py",
     "varRefreshCmd": "print(var_dic_list())"
    },
    "r": {
     "delete_cmd_postfix": ") ",
     "delete_cmd_prefix": "rm(",
     "library": "var_list.r",
     "varRefreshCmd": "cat(var_dic_list()) "
    }
   },
   "types_to_exclude": [
    "module",
    "function",
    "builtin_function_or_method",
    "instance",
    "_Feature"
   ],
   "window_display": false
  }
 },
 "nbformat": 4,
 "nbformat_minor": 4
}
