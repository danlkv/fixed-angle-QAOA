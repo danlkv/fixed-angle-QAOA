{
 "cells": [
  {
   "cell_type": "code",
   "execution_count": 10,
   "metadata": {},
   "outputs": [],
   "source": [
    "import matplotlib.pyplot as plt\n",
    "import json\n",
    "import numpy as np\n",
    "plt.rcParams.update({'font.size': 16})"
   ]
  },
  {
   "cell_type": "code",
   "execution_count": 11,
   "metadata": {},
   "outputs": [],
   "source": [
    "datafile = '../data/magic_stickynote_connectivity.json'\n",
    "guarantees = json.load(open(datafile))"
   ]
  },
  {
   "cell_type": "code",
   "execution_count": 12,
   "metadata": {},
   "outputs": [],
   "source": [
    "guerantees3 = [guarantees[str((q,3))]['AR'] for q in range(1,12)]\n",
    "guerantees4 = [guarantees[str((q,4))]['AR'] for q in range(1,5)]\n",
    "guerantees5 = [guarantees[str((q,5))]['AR'] for q in range(1,4)]"
   ]
  },
  {
   "cell_type": "code",
   "execution_count": 24,
   "metadata": {},
   "outputs": [],
   "source": [
    "def get_colors(num=2, offset=0.25, cmap=plt.cm.gnuplot2):\n",
    "    \"\"\"\n",
    "    Returns:\n",
    "        Array of len ``num``.\n",
    "    \"\"\"\n",
    "    return np.array([cmap(x) for x in np.linspace(offset, 1-offset, num)])"
   ]
  },
  {
   "cell_type": "code",
   "execution_count": 35,
   "metadata": {},
   "outputs": [],
   "source": [
    "from mpl_toolkits.axes_grid1 import Divider, Size\n",
    "def add_sized_axis(fig, axsize):\n",
    "    # The first items are for padding and the second items are for the axes.\n",
    "    # sizes are in inch.\n",
    "    h = [Size.Fixed(1.0), Size.Fixed(axsize[0]), Size.Fixed(.5)]\n",
    "    v = [Size.Fixed(0.7), Size.Fixed(axsize[1])]\n",
    "\n",
    "    divider = Divider(fig, (0, 0, 1, 1), h, v, aspect=False)\n",
    "    # The width and height of the rectangle are ignored.\n",
    "\n",
    "    ax = fig.add_axes(divider.get_position(),\n",
    "                      axes_locator=divider.new_locator(nx=1, ny=1))"
   ]
  },
  {
   "cell_type": "code",
   "execution_count": 38,
   "metadata": {},
   "outputs": [
    {
     "data": {
      "image/png": "[encoded data removed]",
      "text/plain": [
       "<Figure size 540x324.596 with 1 Axes>"
      ]
     },
     "metadata": {
      "needs_background": "light"
     },
     "output_type": "display_data"
    }
   ],
   "source": [
    "axsize = [6, 6/1.618]\n",
    "fig = plt.figure(figsize=(axsize[0]+1.5, axsize[1]+.8))\n",
    "add_sized_axis(fig, axsize)\n",
    "\n",
    "#plt.subplots_adjust(left=0.15,right=0.85)\n",
    "colors = get_colors(3)\n",
    "\n",
    "plt.plot(np.arange(1,12), guerantees3, 'o-', label='$\\\\nu=3$', color=colors[0])\n",
    "plt.plot(np.arange(1,5), guerantees4, 'o-', label='$\\\\nu=4$', color=colors[1])\n",
    "plt.plot(np.arange(1,4), guerantees5, 'o-', label='$\\\\nu=5$', color=colors[2])\n",
    "\n",
    "plt.gca().set_xticks(np.arange(1,12))\n",
    "plt.xlabel('p')\n",
    "plt.ylabel('Approximation ratio')\n",
    "plt.legend()\n",
    "plt.grid(alpha=0.3)\n",
    "plt.savefig('./pdf/ap_vs_connectivity.pdf')"
   ]
  },
  {
   "cell_type": "code",
   "execution_count": null,
   "metadata": {},
   "outputs": [],
   "source": []
  },
  {
   "cell_type": "code",
   "execution_count": null,
   "metadata": {},
   "outputs": [],
   "source": []
  }
 ],
 "metadata": {
  "kernelspec": {
   "display_name": "Python 3",
   "language": "python",
   "name": "python3"
  },
  "language_info": {
   "codemirror_mode": {
    "name": "ipython",
    "version": 3
   },
   "file_extension": ".py",
   "mimetype": "text/x-python",
   "name": "python",
   "nbconvert_exporter": "python",
   "pygments_lexer": "ipython3",
   "version": "3.8.2"
  },
  "toc": {
   "base_numbering": 1,
   "nav_menu": {},
   "number_sections": true,
   "sideBar": true,
   "skip_h1_title": false,
   "title_cell": "Table of Contents",
   "title_sidebar": "Contents",
   "toc_cell": false,
   "toc_position": {},
   "toc_section_display": true,
   "toc_window_display": false
  },
  "varInspector": {
   "cols": {
    "lenName": 16,
    "lenType": 16,
    "lenVar": 40
   },
   "kernels_config": {
    "python": {
     "delete_cmd_postfix": "",
     "delete_cmd_prefix": "del ",
     "library": "var_list.py",
     "varRefreshCmd": "print(var_dic_list())"
    },
    "r": {
     "delete_cmd_postfix": ") ",
     "delete_cmd_prefix": "rm(",
     "library": "var_list.r",
     "varRefreshCmd": "cat(var_dic_list()) "
    }
   },
   "types_to_exclude": [
    "module",
    "function",
    "builtin_function_or_method",
    "instance",
    "_Feature"
   ],
   "window_display": false
  }
 },
 "nbformat": 4,
 "nbformat_minor": 4
}
