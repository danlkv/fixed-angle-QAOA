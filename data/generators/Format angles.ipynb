{
 "cells": [
  {
   "cell_type": "code",
   "execution_count": 1,
   "metadata": {},
   "outputs": [],
   "source": [
    "import qtensor\n",
    "import json"
   ]
  },
  {
   "cell_type": "code",
   "execution_count": null,
   "metadata": {},
   "outputs": [],
   "source": [
    "angles = qtensor.tools."
   ]
  },
  {
   "cell_type": "markdown",
   "metadata": {},
   "source": [
    "\n",
    "### Structure\n",
    "\n",
    "```\n",
    "connectivity (str):\n",
    "    p (str):\n",
    "        angles: list # gamma, beta list length = 2p\n",
    "        AR: float\n",
    "```\n",
    "\n",
    "### Usage\n",
    "\n",
    "```python\n",
    "my_angles = data[p][connn]['angles']\n",
    "```"
   ]
  },
  {
   "cell_type": "code",
   "execution_count": 29,
   "metadata": {},
   "outputs": [],
   "source": [
    "data = dict()"
   ]
  },
  {
   "cell_type": "code",
   "execution_count": 30,
   "metadata": {},
   "outputs": [
    {
     "data": {
      "text/plain": [
       "{'3': {'1': {'angles': [-2.526112630848722, 1.178096198604872],\n",
       "   'AR': 0.69245005020442},\n",
       "  '2': {'angles': [-2.6537053, -5.38542672, 1.01604087, 1.27853893],\n",
       "   'AR': 0.7559063097485101},\n",
       "  '3': {'angles': [0.41787832,\n",
       "    0.79214776,\n",
       "    0.93232948,\n",
       "    0.60032889,\n",
       "    0.45241986,\n",
       "    0.23511412],\n",
       "   'AR': 0.792315514902161},\n",
       "  '4': {'angles': [0.40718406,\n",
       "    0.77873346,\n",
       "    0.97786102,\n",
       "    1.14390016,\n",
       "    0.59413038,\n",
       "    0.44061878,\n",
       "    0.31250151,\n",
       "    0.16312574],\n",
       "   'AR': 0.8167299894216052},\n",
       "  '5': {'angles': [-0.3592396,\n",
       "    -3.84770284,\n",
       "    -3.96376046,\n",
       "    -1.003988,\n",
       "    -4.29516192,\n",
       "    0.93905843,\n",
       "    0.52261397,\n",
       "    1.18051168,\n",
       "    1.29460152,\n",
       "    1.72013775],\n",
       "   'AR': 0.8363793482380077},\n",
       "  '6': {'angles': [-0.33146716,\n",
       "    -3.78674896,\n",
       "    -7.01448834,\n",
       "    -0.83674612,\n",
       "    -4.1513686,\n",
       "    -4.26841648,\n",
       "    0.93509952,\n",
       "    0.53407238,\n",
       "    2.0337603,\n",
       "    0.35987601,\n",
       "    1.31228924,\n",
       "    0.13888416],\n",
       "   'AR': 0.8498938819897202},\n",
       "  '7': {'angles': [0.3075471,\n",
       "    0.62011806,\n",
       "    0.7006096,\n",
       "    0.76412924,\n",
       "    0.86567754,\n",
       "    1.03551756,\n",
       "    1.1258363,\n",
       "    0.64806401,\n",
       "    0.55839915,\n",
       "    0.5007673,\n",
       "    0.45132269,\n",
       "    0.33452177,\n",
       "    0.23544465,\n",
       "    0.12965313],\n",
       "   'AR': 0.859619124021074},\n",
       "  '8': {'angles': [0.30221036,\n",
       "    0.60130604,\n",
       "    0.6597921,\n",
       "    0.7115199,\n",
       "    0.77304704,\n",
       "    0.86802418,\n",
       "    1.02383154,\n",
       "    1.10452208,\n",
       "    0.65650754,\n",
       "    0.56238557,\n",
       "    0.49776919,\n",
       "    0.46996502,\n",
       "    0.41361734,\n",
       "    0.31031851,\n",
       "    0.22814776,\n",
       "    0.12058734],\n",
       "   'AR': 0.8672299758118122},\n",
       "  '9': {'angles': [0.2794012,\n",
       "    0.56613324,\n",
       "    0.6312226,\n",
       "    0.67933252,\n",
       "    0.72624066,\n",
       "    0.76805642,\n",
       "    0.874522,\n",
       "    1.03747092,\n",
       "    1.11798666,\n",
       "    0.65447387,\n",
       "    0.56186397,\n",
       "    0.5090114,\n",
       "    0.48677629,\n",
       "    0.45143509,\n",
       "    0.40321108,\n",
       "    0.30473032,\n",
       "    0.21983296,\n",
       "    0.11718174],\n",
       "   'AR': 0.8723780358122347},\n",
       "  '10': {'angles': [0.26671636,\n",
       "    0.5448227,\n",
       "    0.60998102,\n",
       "    0.65626008,\n",
       "    0.69570836,\n",
       "    0.7287574,\n",
       "    0.77387758,\n",
       "    0.88211138,\n",
       "    1.043801,\n",
       "    1.11525922,\n",
       "    0.65558354,\n",
       "    0.56318149,\n",
       "    0.51388817,\n",
       "    0.49558422,\n",
       "    0.46889487,\n",
       "    0.43574328,\n",
       "    0.38847067,\n",
       "    0.29117619,\n",
       "    0.21050905,\n",
       "    0.11238794],\n",
       "   'AR': 0.8785275447411593},\n",
       "  '11': {'angles': [0.2572874,\n",
       "    0.52804058,\n",
       "    0.59177096,\n",
       "    0.6396915,\n",
       "    0.67720562,\n",
       "    0.70206146,\n",
       "    0.73702426,\n",
       "    0.7753075,\n",
       "    0.88355874,\n",
       "    1.04697026,\n",
       "    1.11523772,\n",
       "    0.65643879,\n",
       "    0.56334713,\n",
       "    0.51630143,\n",
       "    0.50366825,\n",
       "    0.481823,\n",
       "    0.45601256,\n",
       "    0.42143463,\n",
       "    0.37077327,\n",
       "    0.27645017,\n",
       "    0.20094698,\n",
       "    0.1072507],\n",
       "   'AR': 0.8828425408436951},\n",
       "  '12': {'angles': [], 'AR': -10}}}"
      ]
     },
     "execution_count": 30,
     "metadata": {},
     "output_type": "execute_result"
    }
   ],
   "source": [
    "conn_3 = qtensor.tools.BETHE_QAOA_VALUES\n",
    "data['3'] = dict()\n",
    "for p in conn_3:\n",
    "    gb = conn_3[str(p)]['angles']\n",
    "    gamma, beta = gb[:int(p)], gb[int(p):]\n",
    "    gamma = list(-2*np.array(gamma))\n",
    "    data['3'][str(p)] = dict(\n",
    "        angles = gamma + beta,\n",
    "        AR = conn_3[str(p)]['val']\n",
    "    )\n",
    "    \n",
    "data"
   ]
  },
  {
   "cell_type": "code",
   "execution_count": 31,
   "metadata": {},
   "outputs": [
    {
     "data": {
      "text/plain": [
       "(dict_keys(['(1, 3)', '(1, 4)', '(1, 5)', '(2, 3)', '(2, 4)', '(2, 5)', '(3, 3)', '(3, 4)', '(3, 5)', '(4, 3)', '(4, 4)', '(4, 5)', '(5, 3)', '(5, 4)', '(5, 5)', '(6, 3)', '(6, 4)', '(6, 5)', '(7, 3)', '(7, 4)', '(7, 5)', '(8, 3)', '(8, 4)', '(8, 5)', '(9, 3)', '(9, 4)', '(9, 5)', '(10, 3)', '(10, 4)', '(10, 5)', '(11, 3)', '(11, 4)', '(11, 5)', '(12, 3)', '(12, 4)', '(12, 5)']),\n",
       " ('(1, 3)', {'AR': 0.69245005020442}))"
      ]
     },
     "execution_count": 31,
     "metadata": {},
     "output_type": "execute_result"
    }
   ],
   "source": [
    "with_conn = json.load(open('../magic_stickynote_connectivity.json'))\n",
    "with_conn.keys(), next(iter(with_conn.items()))"
   ]
  },
  {
   "cell_type": "code",
   "execution_count": 32,
   "metadata": {},
   "outputs": [],
   "source": [
    "from functools import reduce"
   ]
  },
  {
   "cell_type": "code",
   "execution_count": 44,
   "metadata": {},
   "outputs": [],
   "source": [
    "for key in with_conn.keys():\n",
    "    # reduce removes all characters in set ' ()' from each item of list from key.split(',')\n",
    "    p, conn = map(lambda x: int(\n",
    "        reduce(lambda y, z: y.replace(z, ''), ' ()', x)\n",
    "                  ), key.split(','))\n",
    "    # skip connectivity-3 angles, we already have that\n",
    "    if conn == 3:\n",
    "        continue\n",
    "    angles = with_conn[key].get('angles')\n",
    "    AR = with_conn[key].get('AR')\n",
    "    if (angles is not None) and (AR is not None):\n",
    "        if data.get(str(conn)) is None:\n",
    "            data[str(conn)] = dict()\n",
    "        if data[str(conn)].get(str(p)) is None:\n",
    "            data[str(conn)][str(p)] = dict()\n",
    "        gamma, beta = angles\n",
    "        gamma = list(-2*np.array(gamma))\n",
    "        data[str(conn)][str(p)] = dict(\n",
    "            angles=gamma + beta,\n",
    "            AR=AR\n",
    "        )\n",
    "        \n",
    "       "
   ]
  },
  {
   "cell_type": "code",
   "execution_count": 45,
   "metadata": {},
   "outputs": [
    {
     "data": {
      "text/plain": [
       "{'1': {'angles': [-1.843918249365835, 0.6086897883771427],\n",
       "  'AR': 0.6315252011050679},\n",
       " '2': {'angles': [-1.1441066910535573,\n",
       "   -1.7216639147380988,\n",
       "   0.4065570777982048,\n",
       "   1.081771128300726],\n",
       "  'AR': 0.7124803034177163},\n",
       " '3': {'angles': [-0.860079699031599,\n",
       "   -0.2772323266965971,\n",
       "   -0.9296921728855216,\n",
       "   0.5822171896292961,\n",
       "   0.1996415783539933,\n",
       "   0.7122885015622064],\n",
       "  'AR': 0.7593882355953572},\n",
       " '4': {'angles': [-0.8933290370333901,\n",
       "   -0.17468465254081036,\n",
       "   -0.19068686890582773,\n",
       "   -1.7625396070161072,\n",
       "   0.11445073116892575,\n",
       "   0.31927739717489906,\n",
       "   0.9393818914499722,\n",
       "   0.11275354936194078],\n",
       "  'AR': 0.7843042225596838}}"
      ]
     },
     "execution_count": 45,
     "metadata": {},
     "output_type": "execute_result"
    }
   ],
   "source": [
    "data['4']"
   ]
  },
  {
   "cell_type": "code",
   "execution_count": 46,
   "metadata": {},
   "outputs": [
    {
     "data": {
      "text/plain": [
       "{'1': {'angles': [-0.8655814561862757, 0.40115234294817526],\n",
       "  'AR': 0.6015077233868955},\n",
       " '2': {'angles': [-1.1131436528608634,\n",
       "   -1.8081678627060087,\n",
       "   0.6186633226106697,\n",
       "   0.4145355698898132],\n",
       "  'AR': 0.6932100453074409},\n",
       " '3': {'angles': [-0.8881046058873469,\n",
       "   -1.1147229238579062,\n",
       "   -0.947772628597231,\n",
       "   0.32412616801346117,\n",
       "   0.21158492200364892,\n",
       "   0.8145277722998174],\n",
       "  'AR': 0.731645777105323}}"
      ]
     },
     "execution_count": 46,
     "metadata": {},
     "output_type": "execute_result"
    }
   ],
   "source": [
    "data['5']"
   ]
  },
  {
   "cell_type": "code",
   "execution_count": 47,
   "metadata": {},
   "outputs": [],
   "source": [
    "json.dump(data, open('../../angles_regular_graphs.json', 'w+'))"
   ]
  },
  {
   "cell_type": "code",
   "execution_count": null,
   "metadata": {},
   "outputs": [],
   "source": []
  }
 ],
 "metadata": {
  "kernelspec": {
   "display_name": "Python 3",
   "language": "python",
   "name": "python3"
  },
  "language_info": {
   "codemirror_mode": {
    "name": "ipython",
    "version": 3
   },
   "file_extension": ".py",
   "mimetype": "text/x-python",
   "name": "python",
   "nbconvert_exporter": "python",
   "pygments_lexer": "ipython3",
   "version": "3.8.2"
  },
  "toc": {
   "base_numbering": 1,
   "nav_menu": {},
   "number_sections": true,
   "sideBar": true,
   "skip_h1_title": false,
   "title_cell": "Table of Contents",
   "title_sidebar": "Contents",
   "toc_cell": false,
   "toc_position": {},
   "toc_section_display": true,
   "toc_window_display": false
  },
  "varInspector": {
   "cols": {
    "lenName": 16,
    "lenType": 16,
    "lenVar": 40
   },
   "kernels_config": {
    "python": {
     "delete_cmd_postfix": "",
     "delete_cmd_prefix": "del ",
     "library": "var_list.py",
     "varRefreshCmd": "print(var_dic_list())"
    },
    "r": {
     "delete_cmd_postfix": ") ",
     "delete_cmd_prefix": "rm(",
     "library": "var_list.r",
     "varRefreshCmd": "cat(var_dic_list()) "
    }
   },
   "types_to_exclude": [
    "module",
    "function",
    "builtin_function_or_method",
    "instance",
    "_Feature"
   ],
   "window_display": false
  }
 },
 "nbformat": 4,
 "nbformat_minor": 4
}
