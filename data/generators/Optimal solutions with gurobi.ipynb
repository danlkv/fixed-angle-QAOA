{
 "cells": [
  {
   "cell_type": "code",
   "execution_count": 35,
   "metadata": {},
   "outputs": [],
   "source": [
    "import qtensor\n",
    "import numpy as np\n",
    "import xarray\n",
    "\n",
    "import cartesian_explorer as caex\n",
    "import networkx as nx\n",
    "import socket # used to determine hostname"
   ]
  },
  {
   "cell_type": "markdown",
   "metadata": {},
   "source": [
    "## Set up computation environment"
   ]
  },
  {
   "cell_type": "code",
   "execution_count": 36,
   "metadata": {
    "scrolled": true
   },
   "outputs": [
    {
     "name": "stderr",
     "output_type": "stream",
     "text": [
      "2021-06-13 16:35:51,678\tERROR worker.py:660 -- Calling ray.init() again after it has already been called.\n"
     ]
    },
    {
     "name": "stdout",
     "output_type": "stream",
     "text": [
      "Using ray parallel for caex\n"
     ]
    }
   ],
   "source": [
    "# Set up cache directory\n",
    "cache = caex.caches.JobLibCache(\"../caex_cache\")\n",
    "\n",
    "# Set up parallel environment based on machine\n",
    "if socket.gethostname().startswith('skylake'):\n",
    "    print('Using ray parallel for caex')\n",
    "    parallel = caex.parallels.Ray(processes=55)\n",
    "    # Since we will parallelize over graph instances, there's no sense to\n",
    "    # use multithreaded Gurobi\n",
    "    GUROBI_THREADS = 1 #set to 0 to use all available\n",
    "else:\n",
    "    # Cartesian explorer without parallelization\n",
    "    parallel = None\n",
    "    GUROBI_THREADS = 0\n",
    "ex = caex.Explorer(cache=cache, parallel=parallel)"
   ]
  },
  {
   "cell_type": "markdown",
   "metadata": {},
   "source": [
    "## Generate the data"
   ]
  },
  {
   "cell_type": "code",
   "execution_count": 37,
   "metadata": {},
   "outputs": [],
   "source": [
    "@ex.provider\n",
    "def graph(N, seed=10):\n",
    "    return qtensor.toolbox.random_graph(nodes=N, seed=seed, degree=3)\n",
    "\n",
    "@ex.provider\n",
    "def gurobi_cost(graph):\n",
    "    c, sol = qtensor.tools.maxcut.gurobi_maxcut(graph, max_time=65*60, threads=GUROBI_THREADS)\n",
    "    return c"
   ]
  },
  {
   "cell_type": "code",
   "execution_count": 38,
   "metadata": {},
   "outputs": [],
   "source": [
    "# these values have to match ones from ./QAOA solutions vs N.ipynb\n",
    "Ns = [2**x for x in range(3, 9)]\n",
    "seeds = range(10, 10+32)"
   ]
  },
  {
   "cell_type": "code",
   "execution_count": 39,
   "metadata": {},
   "outputs": [
    {
     "data": {
      "application/vnd.jupyter.widget-view+json": {
       "model_id": "309d5e866cd247df8314186fba764ec7",
       "version_major": 2,
       "version_minor": 0
      },
      "text/plain": [
       "HBox(children=(HTML(value='Caex progress'), FloatProgress(value=1.0, bar_style='info', layout=Layout(width='20…"
      ]
     },
     "metadata": {},
     "output_type": "display_data"
    },
    {
     "name": "stdout",
     "output_type": "stream",
     "text": [
      "\n"
     ]
    }
   ],
   "source": [
    "data = ex.map_variables(('gurobi_cost',)\n",
    "                        , N=Ns\n",
    "                        , seed=seeds\n",
    "                        )"
   ]
  },
  {
   "cell_type": "markdown",
   "metadata": {},
   "source": [
    "### Check the data"
   ]
  },
  {
   "cell_type": "code",
   "execution_count": 40,
   "metadata": {},
   "outputs": [
    {
     "data": {
      "text/plain": [
       "(1, 6, 32)"
      ]
     },
     "execution_count": 40,
     "metadata": {},
     "output_type": "execute_result"
    }
   ],
   "source": [
    "import xarray as xar\n",
    "import matplotlib.pyplot as plt\n",
    "data.shape"
   ]
  },
  {
   "cell_type": "code",
   "execution_count": 41,
   "metadata": {},
   "outputs": [],
   "source": [
    "xd = xar.DataArray(data[0], dims=('N', 'seed'), coords=(Ns, seeds))"
   ]
  },
  {
   "cell_type": "code",
   "execution_count": 42,
   "metadata": {},
   "outputs": [
    {
     "data": {
      "text/plain": [
       "Text(0.5, 1.0, 'Cost per node')"
      ]
     },
     "execution_count": 42,
     "metadata": {},
     "output_type": "execute_result"
    },
    {
     "data": {
      "image/png": "[encoded data removed]",
      "text/plain": [
       "<Figure size 432x288 with 1 Axes>"
      ]
     },
     "metadata": {
      "needs_background": "light"
     },
     "output_type": "display_data"
    }
   ],
   "source": [
    "(xd.mean('seed')/Ns).plot()\n",
    "plt.title('Cost per node')"
   ]
  },
  {
   "cell_type": "markdown",
   "metadata": {},
   "source": [
    "### Save the data\n"
   ]
  },
  {
   "cell_type": "code",
   "execution_count": 43,
   "metadata": {},
   "outputs": [],
   "source": [
    "xd.to_netcdf('../gurobi_cost_vs_N.nc')"
   ]
  },
  {
   "cell_type": "markdown",
   "metadata": {},
   "source": [
    "---"
   ]
  },
  {
   "cell_type": "markdown",
   "metadata": {},
   "source": [
    "## Gurobi activation\n",
    "\n",
    "Get your license here https://www.gurobi.com/downloads/licenses/"
   ]
  },
  {
   "cell_type": "code",
   "execution_count": null,
   "metadata": {},
   "outputs": [],
   "source": []
  },
  {
   "cell_type": "code",
   "execution_count": 6,
   "metadata": {},
   "outputs": [
    {
     "name": "stdout",
     "output_type": "stream",
     "text": [
      "getting license\n",
      "info  : grbgetkey version 9.1.2, build v9.1.2rc0\n",
      "info  : Contacting Gurobi license server...\n",
      "info  : License file for license ID 630883 was successfully retrieved\n",
      "info  : License expires at the end of the day on 2021-07-10\n",
      "info  : Saving license file...\n",
      "info  : License 630883 written to file /home/danlkv/git-build/gurobi/gurobi.lic\n"
     ]
    }
   ],
   "source": [
    "import socket\n",
    "\n",
    "if socket.gethostname() == 'DESKTOP-1OG5J92':\n",
    "    gurobi_lic = '/home/plate/git-built/gurobi/'\n",
    "    print('getting license')\n",
    "    grbkey = '119a6834-b2ea-11eb-97fc-0242ac130002'\n",
    "    # (over)write key to gurobi_lic directory and don't ask questions\n",
    "    !grbgetkey -q --path $gurobi_lic $grbkey\n",
    "    \n",
    "elif socket.gethostname().startswith('skylake'):\n",
    "    gurobi_lic = '/home/danlkv/git-build/gurobi/'\n",
    "    print('getting license')\n",
    "    grbkey = '70dc8be2-b222-11eb-8392-0242ac120002'\n",
    "    # (over)write key to gurobi_lic directory and don't ask questions\n",
    "    !grbgetkey -q --path $gurobi_lic $grbkey"
   ]
  },
  {
   "cell_type": "code",
   "execution_count": null,
   "metadata": {},
   "outputs": [],
   "source": []
  }
 ],
 "metadata": {
  "kernelspec": {
   "display_name": "Python 3",
   "language": "python",
   "name": "python3"
  },
  "language_info": {
   "codemirror_mode": {
    "name": "ipython",
    "version": 3
   },
   "file_extension": ".py",
   "mimetype": "text/x-python",
   "name": "python",
   "nbconvert_exporter": "python",
   "pygments_lexer": "ipython3",
   "version": "3.8.1+"
  },
  "toc": {
   "base_numbering": 1,
   "nav_menu": {},
   "number_sections": true,
   "sideBar": true,
   "skip_h1_title": false,
   "title_cell": "Table of Contents",
   "title_sidebar": "Contents",
   "toc_cell": false,
   "toc_position": {},
   "toc_section_display": true,
   "toc_window_display": false
  }
 },
 "nbformat": 4,
 "nbformat_minor": 4
}
