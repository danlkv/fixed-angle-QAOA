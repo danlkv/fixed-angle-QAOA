{
 "cells": [
  {
   "cell_type": "code",
   "execution_count": 1,
   "metadata": {},
   "outputs": [],
   "source": [
    "import qtensor\n",
    "import numpy as np\n",
    "import cartesian_explorer as caex\n",
    "import networkx as nx\n",
    "import socket # used to determine hostname\n",
    "\n",
    "import xarray as xar # used to store data-arrays: data + coords"
   ]
  },
  {
   "cell_type": "markdown",
   "metadata": {},
   "source": [
    "Determine whether to use parallel caclulations based on hostname: don't run parallel jobs if executed on a home workstation"
   ]
  },
  {
   "cell_type": "code",
   "execution_count": 2,
   "metadata": {},
   "outputs": [
    {
     "name": "stdout",
     "output_type": "stream",
     "text": [
      "Using ray parallel for caex\n"
     ]
    },
    {
     "name": "stderr",
     "output_type": "stream",
     "text": [
      "2021-06-13 16:35:17,955\tINFO services.py:1090 -- View the Ray dashboard at \u001b[1m\u001b[32mhttp://127.0.0.1:8265\u001b[39m\u001b[22m\n"
     ]
    }
   ],
   "source": [
    "# Set up cache directory\n",
    "cache = caex.caches.JobLibCache(\"../caex_cache\")\n",
    "\n",
    "# Set up parallel environment based on machine\n",
    "if socket.gethostname().startswith('skylake'):\n",
    "    print('Using ray parallel for caex')\n",
    "    parallel = caex.parallels.Ray(processes=55)\n",
    "else:\n",
    "    # Cartesian explorer without parallelization\n",
    "    parallel = None\n",
    "ex = caex.Explorer(cache=cache, parallel=parallel)"
   ]
  },
  {
   "cell_type": "markdown",
   "metadata": {},
   "source": [
    "## Define variable providers"
   ]
  },
  {
   "cell_type": "code",
   "execution_count": 3,
   "metadata": {},
   "outputs": [],
   "source": [
    "@ex.provider\n",
    "def graph(N, seed=10):\n",
    "    return nx.random_regular_graph(d=3, n=N, seed=seed)\n",
    "\n",
    "@ex.provider\n",
    "def bethe_params(p):\n",
    "    gammabeta = qtensor.tools.BETHE_QAOA_VALUES[str(p)]['angles'] \n",
    "    gammabeta = np.array(gammabeta)\n",
    "    gammabeta = gammabeta/np.pi\n",
    "    gamma, beta = gammabeta[:p], gammabeta[p:]\n",
    "    assert len(beta)==len(gamma), \"Wrong parameters format, possibly unsolved p\"\n",
    "    return tuple(gamma), tuple(beta)\n",
    "    \n",
    "\n",
    "@ex.provider\n",
    "def transfer_cost(graph, p, bethe_params):\n",
    "    gamma, beta = bethe_params\n",
    "    sim = qtensor.QAOAQtreeSimulator(qtensor.DefaultQAOAComposer, max_tw=32)\n",
    "    try:\n",
    "        transfer_cost = sim.energy_expectation(graph, gamma, beta)\n",
    "        return transfer_cost\n",
    "    except Exception as e:\n",
    "        print(e)\n",
    "        return None"
   ]
  },
  {
   "cell_type": "markdown",
   "metadata": {},
   "source": [
    "## Generate data"
   ]
  },
  {
   "cell_type": "code",
   "execution_count": 4,
   "metadata": {},
   "outputs": [
    {
     "data": {
      "application/vnd.jupyter.widget-view+json": {
       "model_id": "fa4abc51b9c34cd9913e94dc9cc92eae",
       "version_major": 2,
       "version_minor": 0
      },
      "text/plain": [
       "HBox(children=(HTML(value='Caex progress'), FloatProgress(value=1.0, bar_style='info', layout=Layout(width='20…"
      ]
     },
     "metadata": {},
     "output_type": "display_data"
    },
    {
     "name": "stdout",
     "output_type": "stream",
     "text": [
      "\n"
     ]
    },
    {
     "name": "stderr",
     "output_type": "stream",
     "text": [
      "/home/danlkv/.local/bin/lib/python3.8/site-packages/numpy/core/_asarray.py:83: VisibleDeprecationWarning: Creating an ndarray from ragged nested sequences (which is a list-or-tuple of lists-or-tuples-or ndarrays with different lengths or shapes) is deprecated. If you meant to do this, you must specify 'dtype=object' when creating the ndarray\n",
      "  return array(a, dtype, copy=False, order=order)\n"
     ]
    }
   ],
   "source": [
    "# these values have to match ones from ./Optimal solutions with gurobi.ipynb\n",
    "Ns = [2**x for x in range(3, 9)]\n",
    "seeds = range(10, 10+32)\n",
    "\n",
    "ps = [1, 2, 3, 4]\n",
    "data = ex.map_variables(('transfer_cost',)\n",
    "                        , p=ps\n",
    "                        , ordering_algo=['rgreedy_0.02_10']\n",
    "                        , N=Ns\n",
    "                        , seed=seeds\n",
    "                        )"
   ]
  },
  {
   "cell_type": "code",
   "execution_count": 5,
   "metadata": {},
   "outputs": [
    {
     "data": {
      "text/plain": [
       "(1, 4, 6, 32)"
      ]
     },
     "execution_count": 5,
     "metadata": {},
     "output_type": "execute_result"
    }
   ],
   "source": [
    "data.shape"
   ]
  },
  {
   "cell_type": "code",
   "execution_count": 6,
   "metadata": {},
   "outputs": [],
   "source": [
    "xd = xar.DataArray(data[0], dims=('p', 'N', 'seed'), coords=(ps, Ns, seeds))"
   ]
  },
  {
   "cell_type": "code",
   "execution_count": 7,
   "metadata": {},
   "outputs": [
    {
     "data": {
      "text/plain": [
       "array([None, None, None, None, None, None, None, None, None, None, None],\n",
       "      dtype=object)"
      ]
     },
     "execution_count": 7,
     "metadata": {},
     "output_type": "execute_result"
    }
   ],
   "source": [
    "# Number of failed calculations\n",
    "xd.data[xd.data==None]"
   ]
  },
  {
   "cell_type": "markdown",
   "metadata": {},
   "source": [
    "### Check the data"
   ]
  },
  {
   "cell_type": "code",
   "execution_count": 8,
   "metadata": {},
   "outputs": [],
   "source": [
    "import matplotlib.pyplot as plt"
   ]
  },
  {
   "cell_type": "code",
   "execution_count": 9,
   "metadata": {
    "scrolled": true
   },
   "outputs": [
    {
     "data": {
      "text/plain": [
       "Text(0.5, 1.0, 'Cost per node')"
      ]
     },
     "execution_count": 9,
     "metadata": {},
     "output_type": "execute_result"
    },
    {
     "data": {
      "image/png": "[encoded data removed]",
      "text/plain": [
       "<Figure size 432x288 with 1 Axes>"
      ]
     },
     "metadata": {
      "needs_background": "light"
     },
     "output_type": "display_data"
    }
   ],
   "source": [
    "for p in ps:\n",
    "    (xd.sel(p=p).mean('seed')/Ns).plot(marker='*', label=f'p={p}')\n",
    "plt.legend()\n",
    "plt.title('Cost per node')"
   ]
  },
  {
   "cell_type": "code",
   "execution_count": 10,
   "metadata": {},
   "outputs": [],
   "source": [
    "xd.to_netcdf('../QAOA_cost_vs_N.nc')"
   ]
  },
  {
   "cell_type": "code",
   "execution_count": null,
   "metadata": {},
   "outputs": [],
   "source": []
  }
 ],
 "metadata": {
  "kernelspec": {
   "display_name": "Python 3",
   "language": "python",
   "name": "python3"
  },
  "language_info": {
   "codemirror_mode": {
    "name": "ipython",
    "version": 3
   },
   "file_extension": ".py",
   "mimetype": "text/x-python",
   "name": "python",
   "nbconvert_exporter": "python",
   "pygments_lexer": "ipython3",
   "version": "3.8.1+"
  },
  "toc": {
   "base_numbering": 1,
   "nav_menu": {},
   "number_sections": true,
   "sideBar": true,
   "skip_h1_title": false,
   "title_cell": "Table of Contents",
   "title_sidebar": "Contents",
   "toc_cell": false,
   "toc_position": {},
   "toc_section_display": true,
   "toc_window_display": false
  }
 },
 "nbformat": 4,
 "nbformat_minor": 4
}
